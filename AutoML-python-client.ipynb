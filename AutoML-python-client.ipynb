{
 "cells": [
  {
   "cell_type": "markdown",
   "id": "f2128cad-f12e-4317-8d7f-fc748ef41545",
   "metadata": {
    "tags": []
   },
   "source": [
    "# Introduction\n",
    "\n",
    "This notebook demonstrates how to build and deploy an AutoML model using the Google's Vertex-AI Python Client."
   ]
  },
  {
   "cell_type": "markdown",
   "id": "ba5f9a4f-80bf-4101-a893-c051e20c11d8",
   "metadata": {
    "tags": []
   },
   "source": [
    "# Setup"
   ]
  },
  {
   "cell_type": "markdown",
   "id": "311b4360-07a9-4c61-829c-d8bd593c81b8",
   "metadata": {
    "tags": []
   },
   "source": [
    "Installations:"
   ]
  },
  {
   "cell_type": "code",
   "execution_count": 1,
   "id": "c95583cc-1224-403f-81ef-26af1098d436",
   "metadata": {
    "tags": []
   },
   "outputs": [
    {
     "name": "stdout",
     "output_type": "stream",
     "text": [
      "\u001b[33mWARNING: Ignoring invalid distribution -rotobuf (/opt/conda/lib/python3.10/site-packages)\u001b[0m\n",
      "\u001b[33mWARNING: Ignoring invalid distribution -oogle-api-core (/opt/conda/lib/python3.10/site-packages)\u001b[0m\n",
      "\u001b[33mWARNING: Ignoring invalid distribution -rotobuf (/opt/conda/lib/python3.10/site-packages)\u001b[0m\n",
      "\u001b[33mWARNING: Ignoring invalid distribution -oogle-api-core (/opt/conda/lib/python3.10/site-packages)\u001b[0m\n",
      "\u001b[33mWARNING: Ignoring invalid distribution -rotobuf (/opt/conda/lib/python3.10/site-packages)\u001b[0m\n",
      "\u001b[33mWARNING: Ignoring invalid distribution -oogle-api-core (/opt/conda/lib/python3.10/site-packages)\u001b[0m\n",
      "\u001b[33mWARNING: Ignoring invalid distribution -rotobuf (/opt/conda/lib/python3.10/site-packages)\u001b[0m\n",
      "\u001b[33mWARNING: Ignoring invalid distribution -oogle-api-core (/opt/conda/lib/python3.10/site-packages)\u001b[0m\n",
      "\u001b[33mWARNING: Ignoring invalid distribution -rotobuf (/opt/conda/lib/python3.10/site-packages)\u001b[0m\n",
      "\u001b[33mWARNING: Ignoring invalid distribution -oogle-api-core (/opt/conda/lib/python3.10/site-packages)\u001b[0m\n",
      "\u001b[33mWARNING: Ignoring invalid distribution -rotobuf (/opt/conda/lib/python3.10/site-packages)\u001b[0m\n",
      "\u001b[33mWARNING: Ignoring invalid distribution -oogle-api-core (/opt/conda/lib/python3.10/site-packages)\u001b[0m\n"
     ]
    }
   ],
   "source": [
    "! pip3 install --upgrade --quiet google-cloud-aiplatform"
   ]
  },
  {
   "cell_type": "code",
   "execution_count": 2,
   "id": "9794249d-bd6a-443a-adb2-c993a906cd77",
   "metadata": {
    "tags": []
   },
   "outputs": [
    {
     "name": "stdout",
     "output_type": "stream",
     "text": [
      "\u001b[33mWARNING: Ignoring invalid distribution -rotobuf (/opt/conda/lib/python3.10/site-packages)\u001b[0m\n",
      "\u001b[33mWARNING: Ignoring invalid distribution -oogle-api-core (/opt/conda/lib/python3.10/site-packages)\u001b[0m\n",
      "\u001b[33mWARNING: Ignoring invalid distribution -rotobuf (/opt/conda/lib/python3.10/site-packages)\u001b[0m\n",
      "\u001b[33mWARNING: Ignoring invalid distribution -oogle-api-core (/opt/conda/lib/python3.10/site-packages)\u001b[0m\n",
      "Requirement already satisfied: gdown in /opt/conda/lib/python3.10/site-packages (5.2.0)\n",
      "Requirement already satisfied: tqdm in /opt/conda/lib/python3.10/site-packages (from gdown) (4.63.0)\n",
      "Requirement already satisfied: requests[socks] in /opt/conda/lib/python3.10/site-packages (from gdown) (2.32.3)\n",
      "Requirement already satisfied: filelock in /opt/conda/lib/python3.10/site-packages (from gdown) (3.15.4)\n",
      "Requirement already satisfied: beautifulsoup4 in /opt/conda/lib/python3.10/site-packages (from gdown) (4.12.3)\n",
      "Requirement already satisfied: soupsieve>1.2 in /opt/conda/lib/python3.10/site-packages (from beautifulsoup4->gdown) (2.5)\n",
      "Requirement already satisfied: idna<4,>=2.5 in /opt/conda/lib/python3.10/site-packages (from requests[socks]->gdown) (3.3)\n",
      "Requirement already satisfied: certifi>=2017.4.17 in /opt/conda/lib/python3.10/site-packages (from requests[socks]->gdown) (2024.7.4)\n",
      "Requirement already satisfied: charset-normalizer<4,>=2 in /opt/conda/lib/python3.10/site-packages (from requests[socks]->gdown) (2.0.4)\n",
      "Requirement already satisfied: urllib3<3,>=1.21.1 in /opt/conda/lib/python3.10/site-packages (from requests[socks]->gdown) (1.26.19)\n",
      "Requirement already satisfied: PySocks!=1.5.7,>=1.5.6 in /opt/conda/lib/python3.10/site-packages (from requests[socks]->gdown) (1.7.1)\n",
      "\u001b[33mWARNING: Ignoring invalid distribution -rotobuf (/opt/conda/lib/python3.10/site-packages)\u001b[0m\n",
      "\u001b[33mWARNING: Ignoring invalid distribution -oogle-api-core (/opt/conda/lib/python3.10/site-packages)\u001b[0m\n",
      "\u001b[33mWARNING: Ignoring invalid distribution -rotobuf (/opt/conda/lib/python3.10/site-packages)\u001b[0m\n",
      "\u001b[33mWARNING: Ignoring invalid distribution -oogle-api-core (/opt/conda/lib/python3.10/site-packages)\u001b[0m\n",
      "\u001b[33mWARNING: Ignoring invalid distribution -rotobuf (/opt/conda/lib/python3.10/site-packages)\u001b[0m\n",
      "\u001b[33mWARNING: Ignoring invalid distribution -oogle-api-core (/opt/conda/lib/python3.10/site-packages)\u001b[0m\n",
      "\u001b[33mWARNING: Ignoring invalid distribution -rotobuf (/opt/conda/lib/python3.10/site-packages)\u001b[0m\n",
      "\u001b[33mWARNING: Ignoring invalid distribution -oogle-api-core (/opt/conda/lib/python3.10/site-packages)\u001b[0m\n"
     ]
    }
   ],
   "source": [
    "!pip install gdown"
   ]
  },
  {
   "cell_type": "markdown",
   "id": "659eec82-cb8d-420f-9a58-ebeba097646f",
   "metadata": {},
   "source": [
    "inputs:"
   ]
  },
  {
   "cell_type": "code",
   "execution_count": 3,
   "id": "d46be3ce-c2f3-48cb-b2c2-e202bc2bd344",
   "metadata": {
    "tags": []
   },
   "outputs": [
    {
     "name": "stdout",
     "output_type": "stream",
     "text": [
      "project id: auto-ml-433608\n"
     ]
    }
   ],
   "source": [
    "project = !gcloud config get-value project\n",
    "PROJECT_ID = project[0]\n",
    "REGION = 'us-central1'\n",
    "print(f'project id: {PROJECT_ID}')"
   ]
  },
  {
   "cell_type": "code",
   "execution_count": 4,
   "id": "8ef70ee2-9337-468a-805d-9ee74c2c6ca3",
   "metadata": {
    "tags": []
   },
   "outputs": [],
   "source": [
    "DATANAME = 'churn'"
   ]
  },
  {
   "cell_type": "code",
   "execution_count": 5,
   "id": "9fb7b508-c589-4ab9-a386-3ba2ff6ddae9",
   "metadata": {
    "tags": []
   },
   "outputs": [],
   "source": [
    "BQ_PROJECT = PROJECT_ID\n",
    "BQ_DATASET = DATANAME\n",
    "BQ_TABLE = 'churn_tbl'"
   ]
  },
  {
   "cell_type": "code",
   "execution_count": 6,
   "id": "d2c83e56-b557-4b6d-bc7c-5b42141c97ac",
   "metadata": {
    "tags": []
   },
   "outputs": [],
   "source": [
    "SOURCE_FILE_NAME = 'churn_data.csv'"
   ]
  },
  {
   "cell_type": "code",
   "execution_count": 7,
   "id": "91128df7-53dd-4f81-a3a9-55b337fdcaf8",
   "metadata": {
    "tags": []
   },
   "outputs": [],
   "source": [
    "VAR_TARGET = 'Exited'"
   ]
  },
  {
   "cell_type": "markdown",
   "id": "34fe9003-46f5-42f1-ae5b-06df233bb8c0",
   "metadata": {},
   "source": [
    "packages:"
   ]
  },
  {
   "cell_type": "code",
   "execution_count": 8,
   "id": "ba968b79-75f4-452b-b3b5-ff231dba17d2",
   "metadata": {
    "tags": []
   },
   "outputs": [],
   "source": [
    "from google.cloud import aiplatform\n",
    "from google.cloud import bigquery\n",
    "from google.protobuf import json_format\n",
    "from google.protobuf.struct_pb2 import Value\n",
    "import gdown\n",
    "import os"
   ]
  },
  {
   "cell_type": "markdown",
   "id": "26bb7081-e1bf-4600-ac6d-9d4a75411d8d",
   "metadata": {},
   "source": [
    "clients:"
   ]
  },
  {
   "cell_type": "code",
   "execution_count": 9,
   "id": "95f7d8dc-0459-424a-9644-309116cf1a18",
   "metadata": {
    "tags": []
   },
   "outputs": [],
   "source": [
    "aiplatform.init(project=PROJECT_ID, location=REGION)\n",
    "bq = bigquery.Client(project = PROJECT_ID)"
   ]
  },
  {
   "cell_type": "markdown",
   "id": "e6e58067-77ae-4858-911b-8e9e3c1b8b3b",
   "metadata": {},
   "source": [
    "resources:"
   ]
  },
  {
   "cell_type": "code",
   "execution_count": 10,
   "id": "d01206f1-1fda-49b2-95b3-2ab2deba9bc7",
   "metadata": {
    "tags": []
   },
   "outputs": [],
   "source": [
    "DEPLOY_COMPUTE = 'n1-standard-2'"
   ]
  },
  {
   "cell_type": "markdown",
   "id": "d0af6127-b3e7-482f-9b4c-eb2f3d2f0669",
   "metadata": {},
   "source": [
    "# Download the data & load to BigQuery"
   ]
  },
  {
   "cell_type": "markdown",
   "id": "af0976de-c47a-474e-a860-d01dbd0d7e85",
   "metadata": {},
   "source": [
    "Note: You can view the created dataset and tables through the BigQuery menu in the GCP Console UI."
   ]
  },
  {
   "cell_type": "markdown",
   "id": "e6febdf7-29a3-483c-aad9-21c0aaf68f67",
   "metadata": {
    "tags": []
   },
   "source": [
    "Download the csv file:"
   ]
  },
  {
   "cell_type": "code",
   "execution_count": 11,
   "id": "407e51e3-2c4f-45c3-94e1-6742de0e15a2",
   "metadata": {
    "tags": []
   },
   "outputs": [
    {
     "name": "stderr",
     "output_type": "stream",
     "text": [
      "Downloading...\n",
      "From: https://drive.google.com/uc?export=download&id=1l6PZwNBIJ4urIRduH32gSa7fa_LO_KTp\n",
      "To: /home/jupyter/churn_data.csv\n",
      "100%|██████████| 837k/837k [00:00<00:00, 87.4MB/s]\n"
     ]
    },
    {
     "data": {
      "text/plain": [
       "'churn_data.csv'"
      ]
     },
     "execution_count": 11,
     "metadata": {},
     "output_type": "execute_result"
    }
   ],
   "source": [
    "gdown.download(f\"https://drive.google.com/uc?export=download&id=1l6PZwNBIJ4urIRduH32gSa7fa_LO_KTp\", SOURCE_FILE_NAME, quiet=False)"
   ]
  },
  {
   "cell_type": "markdown",
   "id": "f2e8739e-c936-420a-9b59-e2a48f2f24d4",
   "metadata": {},
   "source": [
    "Create an empty BigQuery dataset (In BigQuery, tables must reside within a dataset, which is essentially a container for tables that provides organizational structure and access control to the tables):"
   ]
  },
  {
   "cell_type": "code",
   "execution_count": 12,
   "id": "dcd1a5d8-ab8c-4ee0-986f-b63104d2a718",
   "metadata": {
    "tags": []
   },
   "outputs": [],
   "source": [
    "ds = bigquery.Dataset(f\"{BQ_PROJECT}.{BQ_DATASET}\")\n",
    "ds.location = REGION\n",
    "ds = bq.create_dataset(dataset = ds, exists_ok = True)"
   ]
  },
  {
   "cell_type": "markdown",
   "id": "7bc1d92d-bca0-4997-a2d7-b2e72f511290",
   "metadata": {},
   "source": [
    "Load the data from the csv file into the BigQuery dataset:"
   ]
  },
  {
   "cell_type": "code",
   "execution_count": 13,
   "id": "2bf03e8a-5a9a-4f1b-8e4c-e28bb4f300ad",
   "metadata": {
    "tags": []
   },
   "outputs": [
    {
     "name": "stdout",
     "output_type": "stream",
     "text": [
      "Loaded 10000 rows into churn.churn_tbl.\n"
     ]
    }
   ],
   "source": [
    "job_config = bigquery.LoadJobConfig(\n",
    "    source_format=bigquery.SourceFormat.CSV,\n",
    "    skip_leading_rows=1,\n",
    "    autodetect=True # Let BigQuery autodetect the schema\n",
    ")\n",
    "\n",
    "with open(SOURCE_FILE_NAME, \"rb\") as source_file:\n",
    "    load_job = bq.load_table_from_file(\n",
    "        source_file,\n",
    "        ds.table(BQ_TABLE),\n",
    "        job_config=job_config,\n",
    "    )\n",
    "\n",
    "load_job.result()\n",
    "\n",
    "print(f\"Loaded {load_job.output_rows} rows into {BQ_DATASET}.{BQ_TABLE}.\")"
   ]
  },
  {
   "cell_type": "markdown",
   "id": "540796ad-f928-477c-a2eb-3a430cd5d63b",
   "metadata": {},
   "source": [
    "Store the table name in the `table_ref` variable for future reuse:"
   ]
  },
  {
   "cell_type": "code",
   "execution_count": 14,
   "id": "df2fe7cc-f975-4a57-a489-8d2cb7b9b0bf",
   "metadata": {},
   "outputs": [],
   "source": [
    "table_ref = f\"{BQ_PROJECT}.{BQ_DATASET}.{BQ_TABLE}\""
   ]
  },
  {
   "cell_type": "markdown",
   "id": "39140896-e2fc-476f-908c-9a0e7308bae4",
   "metadata": {},
   "source": [
    "Remove white spaces in column names by transforming them into underscores (AutoML prohibits column names with whitespace):"
   ]
  },
  {
   "cell_type": "code",
   "execution_count": 15,
   "id": "888ffa81-5a69-403f-9d07-1b6025dc7027",
   "metadata": {
    "tags": []
   },
   "outputs": [],
   "source": [
    "table = bq.get_table(table_ref)\n",
    "columns = [schema.name for schema in table.schema]\n",
    "cleaned_columns = [f\"`{col}` AS `{col.replace(' ', '_')}`\" for col in columns]"
   ]
  },
  {
   "cell_type": "code",
   "execution_count": 16,
   "id": "128a0a70-16d0-487e-a505-666208e2100a",
   "metadata": {
    "tags": []
   },
   "outputs": [
    {
     "name": "stdout",
     "output_type": "stream",
     "text": [
      "Columns cleaned in place and table `churn_tbl` updated in `churn` dataset.\n"
     ]
    }
   ],
   "source": [
    "query = f\"\"\"\n",
    "CREATE OR REPLACE TABLE {table_ref} AS\n",
    "SELECT\n",
    "  {', '.join(cleaned_columns)}\n",
    "FROM\n",
    "  {table_ref};\n",
    "\"\"\"\n",
    "job = bq.query(query=query)\n",
    "job.result()\n",
    "\n",
    "print(f\"Columns cleaned in place and table `{BQ_TABLE}` updated in `{BQ_DATASET}` dataset.\")"
   ]
  },
  {
   "cell_type": "markdown",
   "id": "057a2c4e-be2a-4373-9271-c4579f426375",
   "metadata": {
    "tags": []
   },
   "source": [
    "Remove the csv file as it is no longer needed:"
   ]
  },
  {
   "cell_type": "code",
   "execution_count": 17,
   "id": "a12d0f3e-0ded-4ee3-85f2-bdf158ace310",
   "metadata": {
    "tags": []
   },
   "outputs": [],
   "source": [
    "os.remove(SOURCE_FILE_NAME)"
   ]
  },
  {
   "cell_type": "markdown",
   "id": "800311c4-7a72-4e7b-aa78-856b8e911d8e",
   "metadata": {},
   "source": [
    "Display target class imbalance:"
   ]
  },
  {
   "cell_type": "code",
   "execution_count": 18,
   "id": "be34fb94-bb69-4375-b885-7fe21d21617c",
   "metadata": {
    "tags": []
   },
   "outputs": [],
   "source": [
    "query = f\"\"\"\n",
    "SELECT {VAR_TARGET}\n",
    "FROM {table_ref}\n",
    "\"\"\"\n",
    "df = bq.query(query = query).to_dataframe()"
   ]
  },
  {
   "cell_type": "code",
   "execution_count": 19,
   "id": "dd83e25b-47a6-49fb-a059-f104f06a61ef",
   "metadata": {
    "tags": []
   },
   "outputs": [
    {
     "data": {
      "text/plain": [
       "Exited\n",
       "0    7962\n",
       "1    2038\n",
       "Name: count, dtype: Int64"
      ]
     },
     "execution_count": 19,
     "metadata": {},
     "output_type": "execute_result"
    }
   ],
   "source": [
    "df[VAR_TARGET].value_counts()"
   ]
  },
  {
   "cell_type": "markdown",
   "id": "7b3ee763-091f-493b-ae5e-575181c22007",
   "metadata": {},
   "source": [
    "Prepare data for analysis - split into train, validation, and test sets while maintaining the proportions of the target class in each set. Store the table name in the `table_ref_prepped` variable for future reuse:"
   ]
  },
  {
   "cell_type": "code",
   "execution_count": 20,
   "id": "37aedc73-e4c4-486b-a976-045f27cbb430",
   "metadata": {},
   "outputs": [],
   "source": [
    "table_ref_prepped = f'{table_ref}_prepped'"
   ]
  },
  {
   "cell_type": "code",
   "execution_count": 21,
   "id": "6c54642e-b21e-4213-ba70-541b5fab8e16",
   "metadata": {
    "tags": []
   },
   "outputs": [],
   "source": [
    "table = bq.get_table(table_ref)\n",
    "columns = [field.name for field in table.schema]\n",
    "\n",
    "query = f\"\"\"\n",
    "CREATE OR REPLACE TABLE {table_ref_prepped} AS\n",
    "WITH class_counts AS (\n",
    "  /*\n",
    "  This Common Table Expression (CTE) calculates the total number of records for each value of the target (Exited) column\n",
    "  */\n",
    "  SELECT \n",
    "    {VAR_TARGET},\n",
    "    COUNT(*) as total_count\n",
    "  FROM \n",
    "    {table_ref}\n",
    "  GROUP BY \n",
    "    {VAR_TARGET}\n",
    "),\n",
    "stratified_data AS (\n",
    "  /*\n",
    "   This CTE assigns a row number (stratified_row_num) to each record within each target class (exited),\n",
    "   ensuring that the row numbers are ordered within each class.\n",
    "   It also joins the class_counts data to bring in the total count for each class.\n",
    "  */\n",
    "  SELECT \n",
    "    source_table.*,\n",
    "    ROW_NUMBER() OVER (PARTITION BY source_table.{VAR_TARGET} ORDER BY source_table.RowNumber) as stratified_row_num,\n",
    "    class_counts.total_count\n",
    "  FROM \n",
    "    {table_ref} AS source_table\n",
    "  JOIN \n",
    "    class_counts\n",
    "  ON \n",
    "    source_table.{VAR_TARGET} = class_counts.{VAR_TARGET}\n",
    "),\n",
    "split_data AS (\n",
    "  /*\n",
    "  CTE determines the data split (train, validation, or test) for each record based on the stratified_row_num and the total_count for the class.\n",
    "  Please note that the splits groups must be written with capital letters, i.e. TRAIN, TEST and VALIDATE\n",
    "  */\n",
    "  SELECT *,\n",
    "         CASE \n",
    "           WHEN stratified_row_num <= 0.7 * total_count THEN 'TRAIN'\n",
    "           WHEN stratified_row_num > 0.7 * total_count AND stratified_row_num <= 0.9 * total_count THEN 'VALIDATE'\n",
    "           ELSE 'TEST'\n",
    "         END as split\n",
    "  FROM stratified_data\n",
    ")\n",
    "/*\n",
    "List all columns from the original table explicitly.\n",
    "This is required as we used columns such as stratified_row_num and total_count for the splitting operation.\n",
    "*/\n",
    "SELECT {\", \".join(columns)}, split FROM split_data;\n",
    "\"\"\"\n",
    "job = bq.query(query=query)\n",
    "job.result();"
   ]
  },
  {
   "cell_type": "code",
   "execution_count": 22,
   "id": "9fc8ced3-f8e8-429e-b512-bfc91b3fe4f9",
   "metadata": {
    "tags": []
   },
   "outputs": [
    {
     "data": {
      "text/html": [
       "<div>\n",
       "<style scoped>\n",
       "    .dataframe tbody tr th:only-of-type {\n",
       "        vertical-align: middle;\n",
       "    }\n",
       "\n",
       "    .dataframe tbody tr th {\n",
       "        vertical-align: top;\n",
       "    }\n",
       "\n",
       "    .dataframe thead th {\n",
       "        text-align: right;\n",
       "    }\n",
       "</style>\n",
       "<table border=\"1\" class=\"dataframe\">\n",
       "  <thead>\n",
       "    <tr style=\"text-align: right;\">\n",
       "      <th></th>\n",
       "      <th>RowNumber</th>\n",
       "      <th>CustomerId</th>\n",
       "      <th>Surname</th>\n",
       "      <th>CreditScore</th>\n",
       "      <th>Geography</th>\n",
       "      <th>Gender</th>\n",
       "      <th>Age</th>\n",
       "      <th>Tenure</th>\n",
       "      <th>Balance</th>\n",
       "      <th>NumOfProducts</th>\n",
       "      <th>HasCrCard</th>\n",
       "      <th>IsActiveMember</th>\n",
       "      <th>EstimatedSalary</th>\n",
       "      <th>Exited</th>\n",
       "      <th>Complain</th>\n",
       "      <th>Satisfaction_Score</th>\n",
       "      <th>Card_Type</th>\n",
       "      <th>Point_Earned</th>\n",
       "      <th>split</th>\n",
       "    </tr>\n",
       "  </thead>\n",
       "  <tbody>\n",
       "    <tr>\n",
       "      <th>0</th>\n",
       "      <td>2648</td>\n",
       "      <td>15687162</td>\n",
       "      <td>Clayton</td>\n",
       "      <td>461</td>\n",
       "      <td>France</td>\n",
       "      <td>Male</td>\n",
       "      <td>51</td>\n",
       "      <td>9</td>\n",
       "      <td>119889.84</td>\n",
       "      <td>1</td>\n",
       "      <td>0</td>\n",
       "      <td>0</td>\n",
       "      <td>56767.67</td>\n",
       "      <td>1</td>\n",
       "      <td>1</td>\n",
       "      <td>1</td>\n",
       "      <td>GOLD</td>\n",
       "      <td>933</td>\n",
       "      <td>TRAIN</td>\n",
       "    </tr>\n",
       "    <tr>\n",
       "      <th>1</th>\n",
       "      <td>6105</td>\n",
       "      <td>15750731</td>\n",
       "      <td>Trevisani</td>\n",
       "      <td>736</td>\n",
       "      <td>Germany</td>\n",
       "      <td>Male</td>\n",
       "      <td>50</td>\n",
       "      <td>9</td>\n",
       "      <td>116309.01</td>\n",
       "      <td>1</td>\n",
       "      <td>1</td>\n",
       "      <td>0</td>\n",
       "      <td>185360.40</td>\n",
       "      <td>1</td>\n",
       "      <td>1</td>\n",
       "      <td>1</td>\n",
       "      <td>GOLD</td>\n",
       "      <td>760</td>\n",
       "      <td>TRAIN</td>\n",
       "    </tr>\n",
       "    <tr>\n",
       "      <th>2</th>\n",
       "      <td>6628</td>\n",
       "      <td>15746199</td>\n",
       "      <td>Eluemuno</td>\n",
       "      <td>558</td>\n",
       "      <td>France</td>\n",
       "      <td>Female</td>\n",
       "      <td>41</td>\n",
       "      <td>6</td>\n",
       "      <td>0.00</td>\n",
       "      <td>1</td>\n",
       "      <td>1</td>\n",
       "      <td>1</td>\n",
       "      <td>143585.29</td>\n",
       "      <td>1</td>\n",
       "      <td>1</td>\n",
       "      <td>1</td>\n",
       "      <td>GOLD</td>\n",
       "      <td>331</td>\n",
       "      <td>TRAIN</td>\n",
       "    </tr>\n",
       "    <tr>\n",
       "      <th>3</th>\n",
       "      <td>7689</td>\n",
       "      <td>15592412</td>\n",
       "      <td>Sun</td>\n",
       "      <td>713</td>\n",
       "      <td>Germany</td>\n",
       "      <td>Male</td>\n",
       "      <td>45</td>\n",
       "      <td>4</td>\n",
       "      <td>131038.14</td>\n",
       "      <td>1</td>\n",
       "      <td>1</td>\n",
       "      <td>0</td>\n",
       "      <td>74005.04</td>\n",
       "      <td>1</td>\n",
       "      <td>1</td>\n",
       "      <td>2</td>\n",
       "      <td>GOLD</td>\n",
       "      <td>495</td>\n",
       "      <td>VALIDATE</td>\n",
       "    </tr>\n",
       "    <tr>\n",
       "      <th>4</th>\n",
       "      <td>376</td>\n",
       "      <td>15758449</td>\n",
       "      <td>Angelo</td>\n",
       "      <td>769</td>\n",
       "      <td>France</td>\n",
       "      <td>Female</td>\n",
       "      <td>39</td>\n",
       "      <td>8</td>\n",
       "      <td>0.00</td>\n",
       "      <td>1</td>\n",
       "      <td>0</td>\n",
       "      <td>1</td>\n",
       "      <td>21016.00</td>\n",
       "      <td>0</td>\n",
       "      <td>0</td>\n",
       "      <td>3</td>\n",
       "      <td>GOLD</td>\n",
       "      <td>828</td>\n",
       "      <td>TRAIN</td>\n",
       "    </tr>\n",
       "  </tbody>\n",
       "</table>\n",
       "</div>"
      ],
      "text/plain": [
       "   RowNumber  CustomerId    Surname  CreditScore Geography  Gender  Age  \\\n",
       "0       2648    15687162    Clayton          461    France    Male   51   \n",
       "1       6105    15750731  Trevisani          736   Germany    Male   50   \n",
       "2       6628    15746199   Eluemuno          558    France  Female   41   \n",
       "3       7689    15592412        Sun          713   Germany    Male   45   \n",
       "4        376    15758449     Angelo          769    France  Female   39   \n",
       "\n",
       "   Tenure    Balance  NumOfProducts  HasCrCard  IsActiveMember  \\\n",
       "0       9  119889.84              1          0               0   \n",
       "1       9  116309.01              1          1               0   \n",
       "2       6       0.00              1          1               1   \n",
       "3       4  131038.14              1          1               0   \n",
       "4       8       0.00              1          0               1   \n",
       "\n",
       "   EstimatedSalary  Exited  Complain  Satisfaction_Score Card_Type  \\\n",
       "0         56767.67       1         1                   1      GOLD   \n",
       "1        185360.40       1         1                   1      GOLD   \n",
       "2        143585.29       1         1                   1      GOLD   \n",
       "3         74005.04       1         1                   2      GOLD   \n",
       "4         21016.00       0         0                   3      GOLD   \n",
       "\n",
       "   Point_Earned     split  \n",
       "0           933     TRAIN  \n",
       "1           760     TRAIN  \n",
       "2           331     TRAIN  \n",
       "3           495  VALIDATE  \n",
       "4           828     TRAIN  "
      ]
     },
     "execution_count": 22,
     "metadata": {},
     "output_type": "execute_result"
    }
   ],
   "source": [
    "query = f\"\"\"\n",
    "SELECT *\n",
    "FROM {table_ref_prepped} LIMIT 5\n",
    "\"\"\"\n",
    "bq.query(query = query).to_dataframe()"
   ]
  },
  {
   "cell_type": "markdown",
   "id": "f625fabe-ca09-43d8-9f85-3bd145e5a021",
   "metadata": {},
   "source": [
    "Verifying Proper Stratified Ratios Across Training, Validation, and Test Splits:"
   ]
  },
  {
   "cell_type": "code",
   "execution_count": 23,
   "id": "e534cb2e-2887-4415-96b5-56e6419652a6",
   "metadata": {
    "tags": []
   },
   "outputs": [],
   "source": [
    "query = f\"\"\"\n",
    "SELECT \n",
    "    split,\n",
    "    COUNTIF({VAR_TARGET} = 1) AS exited_count,\n",
    "    COUNTIF({VAR_TARGET} = 0) AS not_exited_count\n",
    "FROM \n",
    "    {table_ref_prepped}\n",
    "GROUP BY \n",
    "    split\n",
    "ORDER BY \n",
    "    split;\n",
    "\"\"\"\n",
    "\n",
    "df = bq.query(query).to_dataframe()"
   ]
  },
  {
   "cell_type": "code",
   "execution_count": 24,
   "id": "b0d04adf-076f-4181-b1e6-05a9dbfeeb49",
   "metadata": {
    "tags": []
   },
   "outputs": [
    {
     "data": {
      "text/html": [
       "<div>\n",
       "<style scoped>\n",
       "    .dataframe tbody tr th:only-of-type {\n",
       "        vertical-align: middle;\n",
       "    }\n",
       "\n",
       "    .dataframe tbody tr th {\n",
       "        vertical-align: top;\n",
       "    }\n",
       "\n",
       "    .dataframe thead th {\n",
       "        text-align: right;\n",
       "    }\n",
       "</style>\n",
       "<table border=\"1\" class=\"dataframe\">\n",
       "  <thead>\n",
       "    <tr style=\"text-align: right;\">\n",
       "      <th></th>\n",
       "      <th>split</th>\n",
       "      <th>exited_count</th>\n",
       "      <th>not_exited_count</th>\n",
       "      <th>total_count</th>\n",
       "      <th>exited_%</th>\n",
       "      <th>not_exited_%</th>\n",
       "    </tr>\n",
       "  </thead>\n",
       "  <tbody>\n",
       "    <tr>\n",
       "      <th>0</th>\n",
       "      <td>TEST</td>\n",
       "      <td>204</td>\n",
       "      <td>797</td>\n",
       "      <td>1001</td>\n",
       "      <td>20.37962</td>\n",
       "      <td>79.62038</td>\n",
       "    </tr>\n",
       "    <tr>\n",
       "      <th>1</th>\n",
       "      <td>TRAIN</td>\n",
       "      <td>1426</td>\n",
       "      <td>5573</td>\n",
       "      <td>6999</td>\n",
       "      <td>20.374339</td>\n",
       "      <td>79.625661</td>\n",
       "    </tr>\n",
       "    <tr>\n",
       "      <th>2</th>\n",
       "      <td>VALIDATE</td>\n",
       "      <td>408</td>\n",
       "      <td>1592</td>\n",
       "      <td>2000</td>\n",
       "      <td>20.4</td>\n",
       "      <td>79.6</td>\n",
       "    </tr>\n",
       "  </tbody>\n",
       "</table>\n",
       "</div>"
      ],
      "text/plain": [
       "      split  exited_count  not_exited_count  total_count   exited_%  \\\n",
       "0      TEST           204               797         1001   20.37962   \n",
       "1     TRAIN          1426              5573         6999  20.374339   \n",
       "2  VALIDATE           408              1592         2000       20.4   \n",
       "\n",
       "   not_exited_%  \n",
       "0      79.62038  \n",
       "1     79.625661  \n",
       "2          79.6  "
      ]
     },
     "execution_count": 24,
     "metadata": {},
     "output_type": "execute_result"
    }
   ],
   "source": [
    "df['total_count'] = df['exited_count'] + df['not_exited_count']\n",
    "df['exited_%'] = df['exited_count'] / df['total_count'] * 100\n",
    "df['not_exited_%'] = df['not_exited_count'] / df['total_count'] * 100\n",
    "df"
   ]
  },
  {
   "cell_type": "markdown",
   "id": "99859621-e8ba-4a2d-a5a7-9da325367f52",
   "metadata": {},
   "source": [
    "# Create the Vertex AI dataset"
   ]
  },
  {
   "cell_type": "markdown",
   "id": "48432073-2769-4a8e-9c9a-9a02b01147a3",
   "metadata": {
    "tags": []
   },
   "source": [
    "A Vertex AI dataset is a structured collection of data stored in Google Cloud"
   ]
  },
  {
   "cell_type": "code",
   "execution_count": 25,
   "id": "9d11c28e-1370-4425-94d1-89dadd2195c9",
   "metadata": {
    "tags": []
   },
   "outputs": [
    {
     "name": "stdout",
     "output_type": "stream",
     "text": [
      "Creating TabularDataset\n",
      "Create TabularDataset backing LRO: projects/852126792524/locations/us-central1/datasets/1118897117285318656/operations/3600265235044237312\n",
      "TabularDataset created. Resource name: projects/852126792524/locations/us-central1/datasets/1118897117285318656\n",
      "To use this TabularDataset in another session:\n",
      "ds = aiplatform.TabularDataset('projects/852126792524/locations/us-central1/datasets/1118897117285318656')\n"
     ]
    }
   ],
   "source": [
    "dataset = aiplatform.TabularDataset.create(\n",
    "    display_name=DATANAME,\n",
    "    bq_source=f'bq://{table_ref_prepped}'\n",
    ")"
   ]
  },
  {
   "cell_type": "markdown",
   "id": "0936d58a-6841-459e-8f1c-d0a8d5c8d7c3",
   "metadata": {
    "tags": []
   },
   "source": [
    "# Train a model"
   ]
  },
  {
   "cell_type": "markdown",
   "id": "12e73737-2cb3-4164-ba5b-56a9f5562f1b",
   "metadata": {},
   "source": [
    "The model can be viewed in the UI under Vertex AI's `Model Registry` menu."
   ]
  },
  {
   "cell_type": "markdown",
   "id": "1a450af8-43bd-4d03-bd4c-b654822b8a8c",
   "metadata": {},
   "source": [
    "Omit the `RowNumber`, `CustomerId`, and `Surname` columns, as they don't contribute relevant information for prediction. Additionally, remove the `Complain` column due to its high correlation with the class label, which could introduce bias into the prediction. Finally, exclude the target column."
   ]
  },
  {
   "cell_type": "code",
   "execution_count": 26,
   "id": "853d5de9-4faa-4e18-bb17-c4ee4f590fc4",
   "metadata": {
    "tags": []
   },
   "outputs": [],
   "source": [
    "TO_OMIT = ['RowNumber', 'CustomerId', 'Surname', 'Complain', VAR_TARGET]"
   ]
  },
  {
   "cell_type": "code",
   "execution_count": 27,
   "id": "01439db5-bbe4-48e6-8adf-6f5ba5216636",
   "metadata": {
    "tags": []
   },
   "outputs": [],
   "source": [
    "column_specs = list(set(dataset.column_names) - set(TO_OMIT))"
   ]
  },
  {
   "cell_type": "code",
   "execution_count": 28,
   "id": "8691f8fe-1613-41dd-9932-9ca409659f11",
   "metadata": {
    "tags": []
   },
   "outputs": [
    {
     "data": {
      "text/plain": [
       "{'Age': 'auto',\n",
       " 'Card_Type': 'auto',\n",
       " 'Point_Earned': 'auto',\n",
       " 'IsActiveMember': 'auto',\n",
       " 'Tenure': 'auto',\n",
       " 'Geography': 'auto',\n",
       " 'HasCrCard': 'auto',\n",
       " 'NumOfProducts': 'auto',\n",
       " 'Gender': 'auto',\n",
       " 'Satisfaction_Score': 'auto',\n",
       " 'Balance': 'auto',\n",
       " 'EstimatedSalary': 'auto',\n",
       " 'CreditScore': 'auto',\n",
       " 'split': 'auto'}"
      ]
     },
     "execution_count": 28,
     "metadata": {},
     "output_type": "execute_result"
    }
   ],
   "source": [
    "column_specs = dict.fromkeys(column_specs, 'auto')\n",
    "column_specs"
   ]
  },
  {
   "cell_type": "markdown",
   "id": "274cfd28-2ada-4e02-a13c-f891b9e8ea49",
   "metadata": {},
   "source": [
    "Define a job:"
   ]
  },
  {
   "cell_type": "code",
   "execution_count": 29,
   "id": "4b7039c8-6b7e-41e0-abee-b3420b147f1b",
   "metadata": {
    "tags": []
   },
   "outputs": [],
   "source": [
    "tabular_classification_job = aiplatform.AutoMLTabularTrainingJob(\n",
    "    display_name = DATANAME,\n",
    "    optimization_prediction_type = 'classification',\n",
    "    optimization_objective = 'maximize-au-prc',\n",
    "    column_specs = column_specs\n",
    ")"
   ]
  },
  {
   "cell_type": "markdown",
   "id": "0e676172-e9a0-47b8-99b6-884cff5144d6",
   "metadata": {
    "tags": []
   },
   "source": [
    "Train the model:"
   ]
  },
  {
   "cell_type": "code",
   "execution_count": 30,
   "id": "13b294bd-aab8-4945-a1b5-87e7eef382e1",
   "metadata": {},
   "outputs": [
    {
     "name": "stdout",
     "output_type": "stream",
     "text": [
      "View Training:\n",
      "https://console.cloud.google.com/ai/platform/locations/us-central1/training/6606906994110496768?project=852126792524\n",
      "AutoMLTabularTrainingJob projects/852126792524/locations/us-central1/trainingPipelines/6606906994110496768 current state:\n",
      "PipelineState.PIPELINE_STATE_RUNNING\n",
      "AutoMLTabularTrainingJob projects/852126792524/locations/us-central1/trainingPipelines/6606906994110496768 current state:\n",
      "PipelineState.PIPELINE_STATE_RUNNING\n",
      "AutoMLTabularTrainingJob projects/852126792524/locations/us-central1/trainingPipelines/6606906994110496768 current state:\n",
      "PipelineState.PIPELINE_STATE_RUNNING\n",
      "AutoMLTabularTrainingJob projects/852126792524/locations/us-central1/trainingPipelines/6606906994110496768 current state:\n",
      "PipelineState.PIPELINE_STATE_RUNNING\n",
      "AutoMLTabularTrainingJob projects/852126792524/locations/us-central1/trainingPipelines/6606906994110496768 current state:\n",
      "PipelineState.PIPELINE_STATE_RUNNING\n",
      "AutoMLTabularTrainingJob projects/852126792524/locations/us-central1/trainingPipelines/6606906994110496768 current state:\n",
      "PipelineState.PIPELINE_STATE_RUNNING\n",
      "AutoMLTabularTrainingJob projects/852126792524/locations/us-central1/trainingPipelines/6606906994110496768 current state:\n",
      "PipelineState.PIPELINE_STATE_RUNNING\n",
      "AutoMLTabularTrainingJob projects/852126792524/locations/us-central1/trainingPipelines/6606906994110496768 current state:\n",
      "PipelineState.PIPELINE_STATE_RUNNING\n",
      "AutoMLTabularTrainingJob projects/852126792524/locations/us-central1/trainingPipelines/6606906994110496768 current state:\n",
      "PipelineState.PIPELINE_STATE_RUNNING\n",
      "AutoMLTabularTrainingJob projects/852126792524/locations/us-central1/trainingPipelines/6606906994110496768 current state:\n",
      "PipelineState.PIPELINE_STATE_RUNNING\n",
      "AutoMLTabularTrainingJob projects/852126792524/locations/us-central1/trainingPipelines/6606906994110496768 current state:\n",
      "PipelineState.PIPELINE_STATE_RUNNING\n",
      "AutoMLTabularTrainingJob projects/852126792524/locations/us-central1/trainingPipelines/6606906994110496768 current state:\n",
      "PipelineState.PIPELINE_STATE_RUNNING\n",
      "AutoMLTabularTrainingJob projects/852126792524/locations/us-central1/trainingPipelines/6606906994110496768 current state:\n",
      "PipelineState.PIPELINE_STATE_RUNNING\n",
      "AutoMLTabularTrainingJob projects/852126792524/locations/us-central1/trainingPipelines/6606906994110496768 current state:\n",
      "PipelineState.PIPELINE_STATE_RUNNING\n",
      "AutoMLTabularTrainingJob projects/852126792524/locations/us-central1/trainingPipelines/6606906994110496768 current state:\n",
      "PipelineState.PIPELINE_STATE_RUNNING\n",
      "AutoMLTabularTrainingJob projects/852126792524/locations/us-central1/trainingPipelines/6606906994110496768 current state:\n",
      "PipelineState.PIPELINE_STATE_RUNNING\n",
      "AutoMLTabularTrainingJob projects/852126792524/locations/us-central1/trainingPipelines/6606906994110496768 current state:\n",
      "PipelineState.PIPELINE_STATE_RUNNING\n",
      "AutoMLTabularTrainingJob projects/852126792524/locations/us-central1/trainingPipelines/6606906994110496768 current state:\n",
      "PipelineState.PIPELINE_STATE_RUNNING\n",
      "AutoMLTabularTrainingJob projects/852126792524/locations/us-central1/trainingPipelines/6606906994110496768 current state:\n",
      "PipelineState.PIPELINE_STATE_RUNNING\n",
      "AutoMLTabularTrainingJob projects/852126792524/locations/us-central1/trainingPipelines/6606906994110496768 current state:\n",
      "PipelineState.PIPELINE_STATE_RUNNING\n",
      "AutoMLTabularTrainingJob projects/852126792524/locations/us-central1/trainingPipelines/6606906994110496768 current state:\n",
      "PipelineState.PIPELINE_STATE_RUNNING\n",
      "AutoMLTabularTrainingJob projects/852126792524/locations/us-central1/trainingPipelines/6606906994110496768 current state:\n",
      "PipelineState.PIPELINE_STATE_RUNNING\n",
      "AutoMLTabularTrainingJob projects/852126792524/locations/us-central1/trainingPipelines/6606906994110496768 current state:\n",
      "PipelineState.PIPELINE_STATE_RUNNING\n",
      "AutoMLTabularTrainingJob projects/852126792524/locations/us-central1/trainingPipelines/6606906994110496768 current state:\n",
      "PipelineState.PIPELINE_STATE_RUNNING\n",
      "AutoMLTabularTrainingJob projects/852126792524/locations/us-central1/trainingPipelines/6606906994110496768 current state:\n",
      "PipelineState.PIPELINE_STATE_RUNNING\n",
      "AutoMLTabularTrainingJob projects/852126792524/locations/us-central1/trainingPipelines/6606906994110496768 current state:\n",
      "PipelineState.PIPELINE_STATE_RUNNING\n",
      "AutoMLTabularTrainingJob projects/852126792524/locations/us-central1/trainingPipelines/6606906994110496768 current state:\n",
      "PipelineState.PIPELINE_STATE_RUNNING\n",
      "AutoMLTabularTrainingJob projects/852126792524/locations/us-central1/trainingPipelines/6606906994110496768 current state:\n",
      "PipelineState.PIPELINE_STATE_RUNNING\n",
      "AutoMLTabularTrainingJob projects/852126792524/locations/us-central1/trainingPipelines/6606906994110496768 current state:\n",
      "PipelineState.PIPELINE_STATE_RUNNING\n",
      "AutoMLTabularTrainingJob run completed. Resource name: projects/852126792524/locations/us-central1/trainingPipelines/6606906994110496768\n",
      "Model available at projects/852126792524/locations/us-central1/models/9209677619530825728\n"
     ]
    }
   ],
   "source": [
    "model = tabular_classification_job.run(\n",
    "    dataset = dataset,\n",
    "    target_column = VAR_TARGET,\n",
    "    predefined_split_column_name = 'split',\n",
    "    #    training_fraction_split = 0.7,\n",
    "    #    validation_fraction_split = 0.2,\n",
    "    #    test_fraction_split = 0.1,\n",
    "    budget_milli_node_hours = 1000,\n",
    "    model_display_name = DATANAME,\n",
    "    disable_early_stopping = False\n",
    ")"
   ]
  },
  {
   "cell_type": "markdown",
   "id": "35afbc12-77b5-4627-919b-f67cc31faa29",
   "metadata": {},
   "source": [
    "# Model Evaluation"
   ]
  },
  {
   "cell_type": "markdown",
   "id": "fe23bb0b-71ca-411a-9aef-5b6e2bcc4582",
   "metadata": {},
   "source": [
    "Evaluating the model can also be done through the UI.\n",
    "This section demonstrates how to do it using the Python client:"
   ]
  },
  {
   "cell_type": "code",
   "execution_count": 31,
   "id": "381ca647-eff3-43d1-8ad4-b9765e746ad2",
   "metadata": {},
   "outputs": [],
   "source": [
    "# If the model already exists and you're re-running this notebook, load the model by running this cell:\n",
    "# model_resource_name = 'projects/852126792524/locations/us-central1/models/7198257435956477952' # fill up the model's resource id\n",
    "# model = aiplatform.Model(model_resource_name)"
   ]
  },
  {
   "cell_type": "code",
   "execution_count": 32,
   "id": "34859a25-f115-4a4f-9008-c965d1737403",
   "metadata": {},
   "outputs": [],
   "source": [
    "model_client = aiplatform.gapic.ModelServiceClient(\n",
    "    client_options = {\n",
    "        'api_endpoint' : f'{REGION}-aiplatform.googleapis.com'\n",
    "    }\n",
    ")"
   ]
  },
  {
   "cell_type": "code",
   "execution_count": 33,
   "id": "2869e681-fb76-4860-badd-3856d84a8412",
   "metadata": {
    "tags": []
   },
   "outputs": [
    {
     "data": {
      "text/html": [
       "\n",
       "        \n",
       "    <link rel=\"stylesheet\" href=\"https://fonts.googleapis.com/icon?family=Material+Icons\">\n",
       "    <style>\n",
       "      .view-vertex-resource,\n",
       "      .view-vertex-resource:hover,\n",
       "      .view-vertex-resource:visited {\n",
       "        position: relative;\n",
       "        display: inline-flex;\n",
       "        flex-direction: row;\n",
       "        height: 32px;\n",
       "        padding: 0 12px;\n",
       "          margin: 4px 18px;\n",
       "        gap: 4px;\n",
       "        border-radius: 4px;\n",
       "\n",
       "        align-items: center;\n",
       "        justify-content: center;\n",
       "        background-color: rgb(255, 255, 255);\n",
       "        color: rgb(51, 103, 214);\n",
       "\n",
       "        font-family: Roboto,\"Helvetica Neue\",sans-serif;\n",
       "        font-size: 13px;\n",
       "        font-weight: 500;\n",
       "        text-transform: uppercase;\n",
       "        text-decoration: none !important;\n",
       "\n",
       "        transition: box-shadow 280ms cubic-bezier(0.4, 0, 0.2, 1) 0s;\n",
       "        box-shadow: 0px 3px 1px -2px rgba(0,0,0,0.2), 0px 2px 2px 0px rgba(0,0,0,0.14), 0px 1px 5px 0px rgba(0,0,0,0.12);\n",
       "      }\n",
       "      .view-vertex-resource:active {\n",
       "        box-shadow: 0px 5px 5px -3px rgba(0,0,0,0.2),0px 8px 10px 1px rgba(0,0,0,0.14),0px 3px 14px 2px rgba(0,0,0,0.12);\n",
       "      }\n",
       "      .view-vertex-resource:active .view-vertex-ripple::before {\n",
       "        position: absolute;\n",
       "        top: 0;\n",
       "        bottom: 0;\n",
       "        left: 0;\n",
       "        right: 0;\n",
       "        border-radius: 4px;\n",
       "        pointer-events: none;\n",
       "\n",
       "        content: '';\n",
       "        background-color: rgb(51, 103, 214);\n",
       "        opacity: 0.12;\n",
       "      }\n",
       "      .view-vertex-icon {\n",
       "        font-size: 18px;\n",
       "      }\n",
       "    </style>\n",
       "  \n",
       "        <a class=\"view-vertex-resource\" id=\"view-vertex-resource-5b162c95-75e1-409f-af69-67716bd9da0f\" href=\"#view-view-vertex-resource-5b162c95-75e1-409f-af69-67716bd9da0f\">\n",
       "          <span class=\"material-icons view-vertex-icon\">lightbulb</span>\n",
       "          <span>View Model Evaluation</span>\n",
       "        </a>\n",
       "        \n",
       "        <script>\n",
       "          (function () {\n",
       "            const link = document.getElementById('view-vertex-resource-5b162c95-75e1-409f-af69-67716bd9da0f');\n",
       "            link.addEventListener('click', (e) => {\n",
       "              if (window.google?.colab?.openUrl) {\n",
       "                window.google.colab.openUrl('https://console.cloud.google.com/vertex-ai/models/locations/us-central1/models/9209677619530825728/versions/1/evaluations/6419942187222682570?project=852126792524');\n",
       "              } else {\n",
       "                window.open('https://console.cloud.google.com/vertex-ai/models/locations/us-central1/models/9209677619530825728/versions/1/evaluations/6419942187222682570?project=852126792524', '_blank');\n",
       "              }\n",
       "              e.stopPropagation();\n",
       "              e.preventDefault();\n",
       "            });\n",
       "          })();\n",
       "        </script>\n",
       "    "
      ],
      "text/plain": [
       "<IPython.core.display.HTML object>"
      ]
     },
     "metadata": {},
     "output_type": "display_data"
    }
   ],
   "source": [
    "evaluation = model.get_model_evaluation().to_dict()"
   ]
  },
  {
   "cell_type": "code",
   "execution_count": 34,
   "id": "29273891-c74a-4636-979a-d54e273746f0",
   "metadata": {
    "tags": []
   },
   "outputs": [
    {
     "data": {
      "text/plain": [
       "dict_keys(['auPrc', 'auRoc', 'logLoss', 'confusionMatrix', 'confidenceMetrics'])"
      ]
     },
     "execution_count": 34,
     "metadata": {},
     "output_type": "execute_result"
    }
   ],
   "source": [
    "metrics = evaluation['metrics']\n",
    "metrics.keys()"
   ]
  },
  {
   "cell_type": "code",
   "execution_count": 35,
   "id": "253ccdce-f619-4751-b6f3-63ff6f604b89",
   "metadata": {
    "tags": []
   },
   "outputs": [
    {
     "name": "stdout",
     "output_type": "stream",
     "text": [
      "PR AUC: 0.922778\n",
      "ROC AUC: 0.92536384\n",
      "logLoss: 0.34701425\n"
     ]
    }
   ],
   "source": [
    "print(\"PR AUC:\", metrics.get('auPrc'))\n",
    "print(\"ROC AUC:\", metrics.get('auRoc'))\n",
    "print(\"logLoss:\", metrics.get('logLoss'))"
   ]
  },
  {
   "cell_type": "code",
   "execution_count": 36,
   "id": "cc467a34-659a-491f-ba42-12d4a9de55b0",
   "metadata": {
    "tags": []
   },
   "outputs": [
    {
     "data": {
      "image/png": "[encoded data removed]",
      "text/plain": [
       "<Figure size 800x600 with 1 Axes>"
      ]
     },
     "metadata": {},
     "output_type": "display_data"
    }
   ],
   "source": [
    "import matplotlib.pyplot as plt\n",
    "import seaborn as sns\n",
    "import numpy as np\n",
    "\n",
    "confusion_matrix = metrics.get('confusionMatrix')\n",
    "   \n",
    "cm = np.array(confusion_matrix['rows'])\n",
    "cm = cm[:-1,:-1] # remove dropped\n",
    "\n",
    "plt.figure(figsize=(8, 6))\n",
    "sns.heatmap(cm, annot=True, fmt='g', cmap='Blues', cbar=False)\n",
    "plt.title('Confusion Matrix')\n",
    "plt.show()"
   ]
  },
  {
   "cell_type": "markdown",
   "id": "b3f14963-d3a7-4aca-82c2-cc4752f4f5d1",
   "metadata": {},
   "source": [
    "While it's evident that the model has a significant number of false negatives, the focus of this notebook is not on optimizing model performance but rather on exploring and understanding Vertex AI's AutoML tools. Therefore, I will not be delving into the quality of the model in this notebook."
   ]
  },
  {
   "cell_type": "markdown",
   "id": "bc94cab9-3707-4f76-b4f8-e3deed0c26a7",
   "metadata": {},
   "source": [
    "# Create an Endpoint and Deployment"
   ]
  },
  {
   "cell_type": "markdown",
   "id": "909dc600-3610-41b0-ab2b-918a92ddae05",
   "metadata": {},
   "source": [
    "The endpoint can be viewed in the UI under Vertex AI's `Online Prediction` menu."
   ]
  },
  {
   "cell_type": "code",
   "execution_count": 37,
   "id": "774d4317-140f-4910-823e-5312af9d4afd",
   "metadata": {},
   "outputs": [],
   "source": [
    "# If the model already exists and you're re-running this notebook, load the model by running this cell:\n",
    "# model_resource_name = 'projects/852126792524/locations/us-central1/models/7198257435956477952' # fill up the model's resource id\n",
    "# model = aiplatform.Model(model_resource_name)"
   ]
  },
  {
   "cell_type": "code",
   "execution_count": 38,
   "id": "def18736-1415-48f7-bf68-5766f08b0ffd",
   "metadata": {
    "tags": []
   },
   "outputs": [
    {
     "name": "stdout",
     "output_type": "stream",
     "text": [
      "Creating Endpoint\n",
      "Create Endpoint backing LRO: projects/852126792524/locations/us-central1/endpoints/3705615869372530688/operations/2365645618447122432\n",
      "Endpoint created. Resource name: projects/852126792524/locations/us-central1/endpoints/3705615869372530688\n",
      "To use this Endpoint in another session:\n",
      "endpoint = aiplatform.Endpoint('projects/852126792524/locations/us-central1/endpoints/3705615869372530688')\n"
     ]
    }
   ],
   "source": [
    "endpoint = aiplatform.Endpoint.create(\n",
    "    display_name = f'{DATANAME}_endpoint'\n",
    ")"
   ]
  },
  {
   "cell_type": "markdown",
   "id": "5c4b0fe9-197a-4a13-98b4-556d7c4c2205",
   "metadata": {},
   "source": [
    "Deploy the model to the endpoint (this process may take some time, so please be patient):"
   ]
  },
  {
   "cell_type": "code",
   "execution_count": 39,
   "id": "2c936430-45ad-4368-a50f-17422309c9ec",
   "metadata": {
    "tags": []
   },
   "outputs": [
    {
     "name": "stdout",
     "output_type": "stream",
     "text": [
      "Deploying Model projects/852126792524/locations/us-central1/models/9209677619530825728 to Endpoint : projects/852126792524/locations/us-central1/endpoints/3705615869372530688\n",
      "Deploy Endpoint model backing LRO: projects/852126792524/locations/us-central1/endpoints/3705615869372530688/operations/2311602422918676480\n",
      "Endpoint model deployed. Resource name: projects/852126792524/locations/us-central1/endpoints/3705615869372530688\n"
     ]
    }
   ],
   "source": [
    "deployed_model = endpoint.deploy(\n",
    "    model=model,\n",
    "    deployed_model_display_name=f'{DATANAME}_model',\n",
    "    traffic_percentage=100,\n",
    "    machine_type=DEPLOY_COMPUTE,\n",
    "    min_replica_count=1,\n",
    "    max_replica_count=1\n",
    ")"
   ]
  },
  {
   "cell_type": "markdown",
   "id": "96b63df9-9539-42ef-873a-b687980f20bb",
   "metadata": {
    "tags": []
   },
   "source": [
    "# Prediction"
   ]
  },
  {
   "cell_type": "markdown",
   "id": "c7b21c31-a6a3-4b28-9d6c-67d31e37a688",
   "metadata": {},
   "source": [
    "Retrieve some test data from the BigQuery table:"
   ]
  },
  {
   "cell_type": "code",
   "execution_count": 40,
   "id": "76c8e398-d43a-49e0-9188-bf178aa0fcc6",
   "metadata": {
    "tags": []
   },
   "outputs": [
    {
     "data": {
      "text/html": [
       "<div>\n",
       "<style scoped>\n",
       "    .dataframe tbody tr th:only-of-type {\n",
       "        vertical-align: middle;\n",
       "    }\n",
       "\n",
       "    .dataframe tbody tr th {\n",
       "        vertical-align: top;\n",
       "    }\n",
       "\n",
       "    .dataframe thead th {\n",
       "        text-align: right;\n",
       "    }\n",
       "</style>\n",
       "<table border=\"1\" class=\"dataframe\">\n",
       "  <thead>\n",
       "    <tr style=\"text-align: right;\">\n",
       "      <th></th>\n",
       "      <th>RowNumber</th>\n",
       "      <th>CustomerId</th>\n",
       "      <th>Surname</th>\n",
       "      <th>CreditScore</th>\n",
       "      <th>Geography</th>\n",
       "      <th>Gender</th>\n",
       "      <th>Age</th>\n",
       "      <th>Tenure</th>\n",
       "      <th>Balance</th>\n",
       "      <th>NumOfProducts</th>\n",
       "      <th>HasCrCard</th>\n",
       "      <th>IsActiveMember</th>\n",
       "      <th>EstimatedSalary</th>\n",
       "      <th>Exited</th>\n",
       "      <th>Complain</th>\n",
       "      <th>Satisfaction_Score</th>\n",
       "      <th>Card_Type</th>\n",
       "      <th>Point_Earned</th>\n",
       "      <th>split</th>\n",
       "    </tr>\n",
       "  </thead>\n",
       "  <tbody>\n",
       "    <tr>\n",
       "      <th>0</th>\n",
       "      <td>9372</td>\n",
       "      <td>15781987</td>\n",
       "      <td>Akhtar</td>\n",
       "      <td>641</td>\n",
       "      <td>France</td>\n",
       "      <td>Male</td>\n",
       "      <td>31</td>\n",
       "      <td>9</td>\n",
       "      <td>112494.99</td>\n",
       "      <td>1</td>\n",
       "      <td>1</td>\n",
       "      <td>1</td>\n",
       "      <td>32231.60</td>\n",
       "      <td>0</td>\n",
       "      <td>0</td>\n",
       "      <td>4</td>\n",
       "      <td>GOLD</td>\n",
       "      <td>565</td>\n",
       "      <td>TEST</td>\n",
       "    </tr>\n",
       "    <tr>\n",
       "      <th>1</th>\n",
       "      <td>9581</td>\n",
       "      <td>15778838</td>\n",
       "      <td>Warren</td>\n",
       "      <td>783</td>\n",
       "      <td>France</td>\n",
       "      <td>Male</td>\n",
       "      <td>38</td>\n",
       "      <td>9</td>\n",
       "      <td>114135.17</td>\n",
       "      <td>1</td>\n",
       "      <td>1</td>\n",
       "      <td>0</td>\n",
       "      <td>153269.98</td>\n",
       "      <td>0</td>\n",
       "      <td>0</td>\n",
       "      <td>2</td>\n",
       "      <td>GOLD</td>\n",
       "      <td>343</td>\n",
       "      <td>TEST</td>\n",
       "    </tr>\n",
       "    <tr>\n",
       "      <th>2</th>\n",
       "      <td>9844</td>\n",
       "      <td>15778304</td>\n",
       "      <td>Fan</td>\n",
       "      <td>646</td>\n",
       "      <td>Germany</td>\n",
       "      <td>Male</td>\n",
       "      <td>24</td>\n",
       "      <td>0</td>\n",
       "      <td>92398.08</td>\n",
       "      <td>1</td>\n",
       "      <td>1</td>\n",
       "      <td>1</td>\n",
       "      <td>18897.29</td>\n",
       "      <td>0</td>\n",
       "      <td>0</td>\n",
       "      <td>5</td>\n",
       "      <td>GOLD</td>\n",
       "      <td>887</td>\n",
       "      <td>TEST</td>\n",
       "    </tr>\n",
       "    <tr>\n",
       "      <th>3</th>\n",
       "      <td>9211</td>\n",
       "      <td>15792650</td>\n",
       "      <td>Watts</td>\n",
       "      <td>382</td>\n",
       "      <td>Spain</td>\n",
       "      <td>Male</td>\n",
       "      <td>36</td>\n",
       "      <td>0</td>\n",
       "      <td>0.00</td>\n",
       "      <td>1</td>\n",
       "      <td>1</td>\n",
       "      <td>1</td>\n",
       "      <td>179540.73</td>\n",
       "      <td>1</td>\n",
       "      <td>1</td>\n",
       "      <td>4</td>\n",
       "      <td>GOLD</td>\n",
       "      <td>659</td>\n",
       "      <td>TEST</td>\n",
       "    </tr>\n",
       "    <tr>\n",
       "      <th>4</th>\n",
       "      <td>9009</td>\n",
       "      <td>15776936</td>\n",
       "      <td>Whitworth</td>\n",
       "      <td>475</td>\n",
       "      <td>France</td>\n",
       "      <td>Male</td>\n",
       "      <td>40</td>\n",
       "      <td>7</td>\n",
       "      <td>160818.08</td>\n",
       "      <td>1</td>\n",
       "      <td>0</td>\n",
       "      <td>1</td>\n",
       "      <td>169642.13</td>\n",
       "      <td>1</td>\n",
       "      <td>1</td>\n",
       "      <td>5</td>\n",
       "      <td>GOLD</td>\n",
       "      <td>219</td>\n",
       "      <td>TEST</td>\n",
       "    </tr>\n",
       "    <tr>\n",
       "      <th>5</th>\n",
       "      <td>9357</td>\n",
       "      <td>15734711</td>\n",
       "      <td>Loggia</td>\n",
       "      <td>373</td>\n",
       "      <td>France</td>\n",
       "      <td>Male</td>\n",
       "      <td>42</td>\n",
       "      <td>7</td>\n",
       "      <td>0.00</td>\n",
       "      <td>1</td>\n",
       "      <td>1</td>\n",
       "      <td>0</td>\n",
       "      <td>77786.37</td>\n",
       "      <td>1</td>\n",
       "      <td>1</td>\n",
       "      <td>3</td>\n",
       "      <td>GOLD</td>\n",
       "      <td>986</td>\n",
       "      <td>TEST</td>\n",
       "    </tr>\n",
       "  </tbody>\n",
       "</table>\n",
       "</div>"
      ],
      "text/plain": [
       "   RowNumber  CustomerId    Surname  CreditScore Geography Gender  Age  \\\n",
       "0       9372    15781987     Akhtar          641    France   Male   31   \n",
       "1       9581    15778838     Warren          783    France   Male   38   \n",
       "2       9844    15778304        Fan          646   Germany   Male   24   \n",
       "3       9211    15792650      Watts          382     Spain   Male   36   \n",
       "4       9009    15776936  Whitworth          475    France   Male   40   \n",
       "5       9357    15734711     Loggia          373    France   Male   42   \n",
       "\n",
       "   Tenure    Balance  NumOfProducts  HasCrCard  IsActiveMember  \\\n",
       "0       9  112494.99              1          1               1   \n",
       "1       9  114135.17              1          1               0   \n",
       "2       0   92398.08              1          1               1   \n",
       "3       0       0.00              1          1               1   \n",
       "4       7  160818.08              1          0               1   \n",
       "5       7       0.00              1          1               0   \n",
       "\n",
       "   EstimatedSalary  Exited  Complain  Satisfaction_Score Card_Type  \\\n",
       "0         32231.60       0         0                   4      GOLD   \n",
       "1        153269.98       0         0                   2      GOLD   \n",
       "2         18897.29       0         0                   5      GOLD   \n",
       "3        179540.73       1         1                   4      GOLD   \n",
       "4        169642.13       1         1                   5      GOLD   \n",
       "5         77786.37       1         1                   3      GOLD   \n",
       "\n",
       "   Point_Earned split  \n",
       "0           565  TEST  \n",
       "1           343  TEST  \n",
       "2           887  TEST  \n",
       "3           659  TEST  \n",
       "4           219  TEST  \n",
       "5           986  TEST  "
      ]
     },
     "execution_count": 40,
     "metadata": {},
     "output_type": "execute_result"
    }
   ],
   "source": [
    "query = f\"\"\"\n",
    "(\n",
    "  SELECT * FROM {table_ref_prepped}\n",
    "  WHERE split='TEST' AND Exited=1 \n",
    "  LIMIT 3\n",
    ")\n",
    "UNION ALL\n",
    "(\n",
    "  SELECT * FROM {table_ref_prepped}\n",
    "  WHERE split='TEST' AND Exited=0 \n",
    "  LIMIT 3\n",
    ")\n",
    "\"\"\"\n",
    "\n",
    "pred = bq.query(query=query).to_dataframe()\n",
    "pred"
   ]
  },
  {
   "cell_type": "markdown",
   "id": "ac0a34b3-a44b-495a-9d37-97cac498b2f8",
   "metadata": {},
   "source": [
    "Predict a single entry. First, remove unnecessary columns and convert all fields to strings:"
   ]
  },
  {
   "cell_type": "code",
   "execution_count": 41,
   "id": "2355bbbf-51c3-4b4d-a9c1-c65836f3780b",
   "metadata": {
    "tags": []
   },
   "outputs": [
    {
     "data": {
      "text/plain": [
       "{'CreditScore': 641,\n",
       " 'Geography': 'France',\n",
       " 'Gender': 'Male',\n",
       " 'Age': 31,\n",
       " 'Tenure': 9,\n",
       " 'Balance': 112494.99,\n",
       " 'NumOfProducts': 1,\n",
       " 'HasCrCard': 1,\n",
       " 'IsActiveMember': 1,\n",
       " 'EstimatedSalary': 32231.6,\n",
       " 'Satisfaction_Score': 4,\n",
       " 'Card_Type': 'GOLD',\n",
       " 'Point_Earned': 565}"
      ]
     },
     "execution_count": 41,
     "metadata": {},
     "output_type": "execute_result"
    }
   ],
   "source": [
    "newob = pred[pred.columns[~pred.columns.isin(TO_OMIT + [VAR_TARGET, 'split'])]].to_dict(orient='records')[0]\n",
    "newob"
   ]
  },
  {
   "cell_type": "markdown",
   "id": "6349be02-d730-4f61-a937-00f9ca18d709",
   "metadata": {},
   "source": [
    "First, we need to convert the categorical fields into strings as AutoML preprocessing did:"
   ]
  },
  {
   "cell_type": "code",
   "execution_count": 42,
   "id": "38a9d38f-333d-4b3f-a17e-296d35cd4931",
   "metadata": {
    "tags": []
   },
   "outputs": [],
   "source": [
    "def convert_for_prediction(entry):\n",
    "    fields_to_convert = [\n",
    "        'CreditScore', 'Age', 'Tenure', 'NumOfProducts',\n",
    "        'HasCrCard', 'IsActiveMember', 'Satisfaction_Score', 'Point_Earned'\n",
    "    ]\n",
    "    \n",
    "    for field in fields_to_convert:\n",
    "        entry[field] = str(entry[field])\n",
    "    \n",
    "    return entry"
   ]
  },
  {
   "cell_type": "code",
   "execution_count": 43,
   "id": "8df610dd-7c76-4740-ad33-bd41084630bb",
   "metadata": {},
   "outputs": [],
   "source": [
    "newob = convert_for_prediction(newob)"
   ]
  },
  {
   "cell_type": "markdown",
   "id": "bcbf95c2-42e7-4ea7-87ed-0f1110bf1d7e",
   "metadata": {},
   "source": [
    "Then, use the endpoint for prediction:"
   ]
  },
  {
   "cell_type": "code",
   "execution_count": 44,
   "id": "0e477bee-e2dd-43a2-bcee-9c5c8bf37465",
   "metadata": {
    "tags": []
   },
   "outputs": [
    {
     "data": {
      "text/plain": [
       "Prediction(predictions=[{'classes': ['0', '1'], 'scores': [0.9488348960876465, 0.05116508901119232]}], deployed_model_id='3675861985213284352', metadata=None, model_version_id='1', model_resource_name='projects/852126792524/locations/us-central1/models/9209677619530825728', explanations=None)"
      ]
     },
     "execution_count": 44,
     "metadata": {},
     "output_type": "execute_result"
    }
   ],
   "source": [
    "instances = [json_format.ParseDict(newob, Value())]\n",
    "parameters = json_format.ParseDict({}, Value())\n",
    "prediction = endpoint.predict(instances=instances, parameters=parameters)\n",
    "prediction"
   ]
  },
  {
   "cell_type": "code",
   "execution_count": 45,
   "id": "26cb79ad-82fc-4236-b2a3-62c4fc816a0f",
   "metadata": {
    "tags": []
   },
   "outputs": [
    {
     "name": "stdout",
     "output_type": "stream",
     "text": [
      "predicted class: 0\n"
     ]
    }
   ],
   "source": [
    "pred_class = prediction.predictions[0]['classes'][np.argmax(prediction.predictions[0]['scores'])]\n",
    "print(f'predicted class: {pred_class}')"
   ]
  },
  {
   "cell_type": "markdown",
   "id": "54844918-dd82-4a3a-adac-74195f9070bd",
   "metadata": {},
   "source": [
    "# Explainability"
   ]
  },
  {
   "cell_type": "code",
   "execution_count": 48,
   "id": "ede5355f-6967-47f3-abe7-74a66ffea0d6",
   "metadata": {
    "tags": []
   },
   "outputs": [],
   "source": [
    "instances = [json_format.ParseDict(newob, Value())]\n",
    "parameters = json_format.ParseDict({}, Value())\n",
    "explanation = endpoint.explain(instances=instances, parameters=parameters)"
   ]
  },
  {
   "cell_type": "code",
   "execution_count": 49,
   "id": "94d89fbf-c402-4225-9119-223c74164ceb",
   "metadata": {
    "tags": []
   },
   "outputs": [
    {
     "data": {
      "text/plain": [
       "[{'classes': ['0', '1'], 'scores': [0.9488348960876465, 0.05116508901119232]}]"
      ]
     },
     "execution_count": 49,
     "metadata": {},
     "output_type": "execute_result"
    }
   ],
   "source": [
    "explanation.predictions"
   ]
  },
  {
   "cell_type": "code",
   "execution_count": 50,
   "id": "78a7e99b-34a0-42a5-b2e7-26be3ad839d9",
   "metadata": {
    "tags": []
   },
   "outputs": [
    {
     "data": {
      "image/png": "[encoded data removed]",
      "text/plain": [
       "<Figure size 900x900 with 1 Axes>"
      ]
     },
     "metadata": {},
     "output_type": "display_data"
    }
   ],
   "source": [
    "import matplotlib.pyplot as plt\n",
    "features = []\n",
    "scores = []\n",
    "\n",
    "# Extract features and scores from the explanation object\n",
    "attributions = explanation.explanations[0].attributions[0].feature_attributions\n",
    "\n",
    "features = list(attributions.keys())\n",
    "scores = list(attributions.values())\n",
    "sorted_pairs = sorted(zip(scores, features))\n",
    "scores, features = zip(*sorted_pairs)\n",
    "\n",
    "fig, ax = plt.subplots(figsize=(9, 9))\n",
    "ax.barh(features, scores)\n",
    "fig.show()"
   ]
  },
  {
   "cell_type": "markdown",
   "id": "014dbe3f-cc73-46b1-907a-6288eb2252c4",
   "metadata": {},
   "source": [
    "Note: In his tutorial, Mike also demonstrated batch prediction where the samples are taken from BigQuery, and the predictions are also stored there. I skipped this part."
   ]
  },
  {
   "cell_type": "markdown",
   "id": "8ffe0e15-c81b-4141-ad16-9d4339ffcbfe",
   "metadata": {},
   "source": [
    "# Deletion"
   ]
  },
  {
   "cell_type": "markdown",
   "id": "9f40822a-fda9-4e80-8a80-0fd345d21e1d",
   "metadata": {
    "tags": []
   },
   "source": [
    "Mike provided a [deletion process via Python code](https://github.com/statmike/vertex-ai-mlops/blob/main/99%20-%20Cleanup/99%20-%20Cleanup.ipynb)\n",
    "\n",
    "I decided to ensure I also knew how to delete the resources manually fron the UI and found it to be very straightforward. \n",
    "\n",
    "The only point worth mentioning is that to delete the deployment endpoint and the model, you must first undeploy the model from the endpoint — only then can you delete both the model and the endpoint itself."
   ]
  }
 ],
 "metadata": {
  "environment": {
   "kernel": "conda-base-py",
   "name": "workbench-notebooks.m124",
   "type": "gcloud",
   "uri": "us-docker.pkg.dev/deeplearning-platform-release/gcr.io/workbench-notebooks:m124"
  },
  "kernelspec": {
   "display_name": "Python 3 (ipykernel)",
   "language": "python",
   "name": "conda-base-py"
  },
  "language_info": {
   "codemirror_mode": {
    "name": "ipython",
    "version": 3
   },
   "file_extension": ".py",
   "mimetype": "text/x-python",
   "name": "python",
   "nbconvert_exporter": "python",
   "pygments_lexer": "ipython3",
   "version": "3.10.14"
  }
 },
 "nbformat": 4,
 "nbformat_minor": 5
}
