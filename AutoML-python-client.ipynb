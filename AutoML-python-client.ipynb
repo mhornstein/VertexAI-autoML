{
 "cells": [
  {
   "cell_type": "markdown",
   "id": "4cd98278-287c-4729-8bad-72d972177c7e",
   "metadata": {},
   "source": [
    "TODO add heder"
   ]
  },
  {
   "cell_type": "markdown",
   "id": "ba5f9a4f-80bf-4101-a893-c051e20c11d8",
   "metadata": {
    "tags": []
   },
   "source": [
    "## Setup"
   ]
  },
  {
   "cell_type": "code",
   "execution_count": 1,
   "id": "c95583cc-1224-403f-81ef-26af1098d436",
   "metadata": {
    "tags": []
   },
   "outputs": [
    {
     "name": "stdout",
     "output_type": "stream",
     "text": [
      "\u001b[33mWARNING: Ignoring invalid distribution -rotobuf (/opt/conda/lib/python3.10/site-packages)\u001b[0m\n",
      "\u001b[33mWARNING: Ignoring invalid distribution -oogle-api-core (/opt/conda/lib/python3.10/site-packages)\u001b[0m\n",
      "\u001b[33mWARNING: Ignoring invalid distribution -rotobuf (/opt/conda/lib/python3.10/site-packages)\u001b[0m\n",
      "\u001b[33mWARNING: Ignoring invalid distribution -oogle-api-core (/opt/conda/lib/python3.10/site-packages)\u001b[0m\n",
      "\u001b[33mWARNING: Ignoring invalid distribution -rotobuf (/opt/conda/lib/python3.10/site-packages)\u001b[0m\n",
      "\u001b[33mWARNING: Ignoring invalid distribution -oogle-api-core (/opt/conda/lib/python3.10/site-packages)\u001b[0m\n",
      "\u001b[33mWARNING: Ignoring invalid distribution -rotobuf (/opt/conda/lib/python3.10/site-packages)\u001b[0m\n",
      "\u001b[33mWARNING: Ignoring invalid distribution -oogle-api-core (/opt/conda/lib/python3.10/site-packages)\u001b[0m\n",
      "\u001b[33mWARNING: Ignoring invalid distribution -rotobuf (/opt/conda/lib/python3.10/site-packages)\u001b[0m\n",
      "\u001b[33mWARNING: Ignoring invalid distribution -oogle-api-core (/opt/conda/lib/python3.10/site-packages)\u001b[0m\n",
      "\u001b[33mWARNING: Ignoring invalid distribution -rotobuf (/opt/conda/lib/python3.10/site-packages)\u001b[0m\n",
      "\u001b[33mWARNING: Ignoring invalid distribution -oogle-api-core (/opt/conda/lib/python3.10/site-packages)\u001b[0m\n"
     ]
    }
   ],
   "source": [
    "! pip3 install --upgrade --quiet google-cloud-aiplatform"
   ]
  },
  {
   "cell_type": "code",
   "execution_count": 13,
   "id": "9794249d-bd6a-443a-adb2-c993a906cd77",
   "metadata": {
    "tags": []
   },
   "outputs": [
    {
     "name": "stdout",
     "output_type": "stream",
     "text": [
      "\u001b[33mWARNING: Ignoring invalid distribution -rotobuf (/opt/conda/lib/python3.10/site-packages)\u001b[0m\n",
      "\u001b[33mWARNING: Ignoring invalid distribution -oogle-api-core (/opt/conda/lib/python3.10/site-packages)\u001b[0m\n",
      "\u001b[33mWARNING: Ignoring invalid distribution -rotobuf (/opt/conda/lib/python3.10/site-packages)\u001b[0m\n",
      "\u001b[33mWARNING: Ignoring invalid distribution -oogle-api-core (/opt/conda/lib/python3.10/site-packages)\u001b[0m\n",
      "Collecting gdown\n",
      "  Downloading gdown-5.2.0-py3-none-any.whl (18 kB)\n",
      "Requirement already satisfied: filelock in /opt/conda/lib/python3.10/site-packages (from gdown) (3.15.4)\n",
      "Requirement already satisfied: beautifulsoup4 in /opt/conda/lib/python3.10/site-packages (from gdown) (4.12.3)\n",
      "Requirement already satisfied: requests[socks] in /opt/conda/lib/python3.10/site-packages (from gdown) (2.32.3)\n",
      "Requirement already satisfied: tqdm in /opt/conda/lib/python3.10/site-packages (from gdown) (4.63.0)\n",
      "Requirement already satisfied: soupsieve>1.2 in /opt/conda/lib/python3.10/site-packages (from beautifulsoup4->gdown) (2.5)\n",
      "Requirement already satisfied: certifi>=2017.4.17 in /opt/conda/lib/python3.10/site-packages (from requests[socks]->gdown) (2024.7.4)\n",
      "Requirement already satisfied: charset-normalizer<4,>=2 in /opt/conda/lib/python3.10/site-packages (from requests[socks]->gdown) (2.0.4)\n",
      "Requirement already satisfied: idna<4,>=2.5 in /opt/conda/lib/python3.10/site-packages (from requests[socks]->gdown) (3.3)\n",
      "Requirement already satisfied: urllib3<3,>=1.21.1 in /opt/conda/lib/python3.10/site-packages (from requests[socks]->gdown) (1.26.19)\n",
      "Requirement already satisfied: PySocks!=1.5.7,>=1.5.6 in /opt/conda/lib/python3.10/site-packages (from requests[socks]->gdown) (1.7.1)\n",
      "\u001b[33mWARNING: Ignoring invalid distribution -rotobuf (/opt/conda/lib/python3.10/site-packages)\u001b[0m\n",
      "\u001b[33mWARNING: Ignoring invalid distribution -oogle-api-core (/opt/conda/lib/python3.10/site-packages)\u001b[0m\n",
      "Installing collected packages: gdown\n",
      "\u001b[33mWARNING: Ignoring invalid distribution -rotobuf (/opt/conda/lib/python3.10/site-packages)\u001b[0m\n",
      "\u001b[33mWARNING: Ignoring invalid distribution -oogle-api-core (/opt/conda/lib/python3.10/site-packages)\u001b[0m\n",
      "Successfully installed gdown-5.2.0\n",
      "\u001b[33mWARNING: Ignoring invalid distribution -rotobuf (/opt/conda/lib/python3.10/site-packages)\u001b[0m\n",
      "\u001b[33mWARNING: Ignoring invalid distribution -oogle-api-core (/opt/conda/lib/python3.10/site-packages)\u001b[0m\n",
      "\u001b[33mWARNING: Ignoring invalid distribution -rotobuf (/opt/conda/lib/python3.10/site-packages)\u001b[0m\n",
      "\u001b[33mWARNING: Ignoring invalid distribution -oogle-api-core (/opt/conda/lib/python3.10/site-packages)\u001b[0m\n",
      "\u001b[33mWARNING: Ignoring invalid distribution -rotobuf (/opt/conda/lib/python3.10/site-packages)\u001b[0m\n",
      "\u001b[33mWARNING: Ignoring invalid distribution -oogle-api-core (/opt/conda/lib/python3.10/site-packages)\u001b[0m\n"
     ]
    }
   ],
   "source": [
    "!pip install gdown"
   ]
  },
  {
   "cell_type": "markdown",
   "id": "659eec82-cb8d-420f-9a58-ebeba097646f",
   "metadata": {},
   "source": [
    "inputs:"
   ]
  },
  {
   "cell_type": "code",
   "execution_count": 2,
   "id": "d46be3ce-c2f3-48cb-b2c2-e202bc2bd344",
   "metadata": {
    "tags": []
   },
   "outputs": [],
   "source": [
    "project = !gcloud config get-value project\n",
    "PROJECT_ID = project[0]"
   ]
  },
  {
   "cell_type": "code",
   "execution_count": 26,
   "id": "8ef70ee2-9337-468a-805d-9ee74c2c6ca3",
   "metadata": {
    "tags": []
   },
   "outputs": [],
   "source": [
    "REGION = 'us-central1'\n",
    "DATANAME = 'churn'\n",
    "TABLE_NAME = 'churn_data'"
   ]
  },
  {
   "cell_type": "code",
   "execution_count": 23,
   "id": "d2c83e56-b557-4b6d-bc7c-5b42141c97ac",
   "metadata": {
    "tags": []
   },
   "outputs": [],
   "source": [
    "SOURCE_FILE_NAME = 'churn_data.csv'"
   ]
  },
  {
   "cell_type": "markdown",
   "id": "34fe9003-46f5-42f1-ae5b-06df233bb8c0",
   "metadata": {},
   "source": [
    "packages:"
   ]
  },
  {
   "cell_type": "code",
   "execution_count": 15,
   "id": "ba968b79-75f4-452b-b3b5-ff231dba17d2",
   "metadata": {
    "tags": []
   },
   "outputs": [],
   "source": [
    "from google.cloud import aiplatform\n",
    "import gdown"
   ]
  },
  {
   "cell_type": "markdown",
   "id": "26bb7081-e1bf-4600-ac6d-9d4a75411d8d",
   "metadata": {},
   "source": [
    "clients:"
   ]
  },
  {
   "cell_type": "code",
   "execution_count": 29,
   "id": "95f7d8dc-0459-424a-9644-309116cf1a18",
   "metadata": {
    "tags": []
   },
   "outputs": [],
   "source": [
    "aiplatform.init(project=PROJECT_ID, location=REGION)\n",
    "bq = bigquery.Client(project = PROJECT_ID)"
   ]
  },
  {
   "cell_type": "markdown",
   "id": "7657c35f-68b6-4535-b68e-de1dd1247ce8",
   "metadata": {},
   "source": [
    "parameters:"
   ]
  },
  {
   "cell_type": "markdown",
   "id": "fc0663cc-519b-4045-8590-d795e7ca2d69",
   "metadata": {
    "tags": []
   },
   "source": [
    "BUCKET_NAME = PROJECT_ID"
   ]
  },
  {
   "cell_type": "markdown",
   "id": "d0af6127-b3e7-482f-9b4c-eb2f3d2f0669",
   "metadata": {},
   "source": [
    "# Download the dataset"
   ]
  },
  {
   "cell_type": "markdown",
   "id": "f280ec97-41b0-4352-bdae-11006e1a3799",
   "metadata": {},
   "source": [
    "To create a TabularDataset in Vertex AI from a CSV file, one first needs to load the CSV into a Google Cloud Storage bucket or into BigQuery.\n",
    "After that, you we can create the dataset using the appropriate reference.\n",
    "I chose to load the csv to BigQuery."
   ]
  },
  {
   "cell_type": "code",
   "execution_count": 24,
   "id": "407e51e3-2c4f-45c3-94e1-6742de0e15a2",
   "metadata": {
    "tags": []
   },
   "outputs": [
    {
     "name": "stderr",
     "output_type": "stream",
     "text": [
      "Downloading...\n",
      "From: https://drive.google.com/uc?export=download&id=1YQbNdJNGgAp8z0W_BAtwoaQJ-_E2h1MX\n",
      "To: /home/jupyter/churn_data.csv\n",
      "100%|██████████| 978k/978k [00:00<00:00, 90.5MB/s]\n"
     ]
    },
    {
     "data": {
      "text/plain": [
       "'churn_data.csv'"
      ]
     },
     "execution_count": 24,
     "metadata": {},
     "output_type": "execute_result"
    }
   ],
   "source": [
    "gdown.download(f\"https://drive.google.com/uc?export=download&id=1YQbNdJNGgAp8z0W_BAtwoaQJ-_E2h1MX\", SOURCE_FILE_NAME, quiet=False)"
   ]
  },
  {
   "cell_type": "markdown",
   "id": "5c2a3aab-f81e-45e7-8e96-b3ad01827ffe",
   "metadata": {},
   "source": [
    "# Load data to BigQuery"
   ]
  },
  {
   "cell_type": "markdown",
   "id": "9e4dda9a-220c-4699-84d4-4ccf9e6eb4ca",
   "metadata": {
    "tags": []
   },
   "source": [
    "Create BigQuery Dataset"
   ]
  },
  {
   "cell_type": "code",
   "execution_count": 27,
   "id": "dcd1a5d8-ab8c-4ee0-986f-b63104d2a718",
   "metadata": {
    "tags": []
   },
   "outputs": [],
   "source": [
    "ds = bigquery.Dataset(f\"{PROJECT_ID}.{DATANAME}\")\n",
    "ds.location = REGION\n",
    "ds = bq.create_dataset(dataset = ds, exists_ok = True)"
   ]
  },
  {
   "cell_type": "code",
   "execution_count": 31,
   "id": "2bf03e8a-5a9a-4f1b-8e4c-e28bb4f300ad",
   "metadata": {
    "tags": []
   },
   "outputs": [
    {
     "name": "stdout",
     "output_type": "stream",
     "text": [
      "Loaded 7043 rows into churn.churn_data.\n"
     ]
    }
   ],
   "source": [
    "job_config = bigquery.LoadJobConfig(\n",
    "    source_format=bigquery.SourceFormat.CSV,\n",
    "    skip_leading_rows=1,  # Skip the header row\n",
    "    autodetect=True,  # Let BigQuery autodetect the schema\n",
    ")\n",
    "\n",
    "# Load the data into BigQuery directly from the file\n",
    "with open(SOURCE_FILE_NAME, \"rb\") as source_file:\n",
    "    load_job = bq.load_table_from_file(\n",
    "        source_file,\n",
    "        ds.table(TABLE_NAME),\n",
    "        job_config=job_config,\n",
    "    )\n",
    "\n",
    "load_job.result()  # Wait for the job to complete\n",
    "\n",
    "print(f\"Loaded {load_job.output_rows} rows into {DATANAME}.{TABLE_NAME}.\")"
   ]
  },
  {
   "cell_type": "code",
   "execution_count": null,
   "id": "a12d0f3e-0ded-4ee3-85f2-bdf158ace310",
   "metadata": {},
   "outputs": [],
   "source": []
  }
 ],
 "metadata": {
  "environment": {
   "kernel": "conda-base-py",
   "name": "workbench-notebooks.m124",
   "type": "gcloud",
   "uri": "us-docker.pkg.dev/deeplearning-platform-release/gcr.io/workbench-notebooks:m124"
  },
  "kernelspec": {
   "display_name": "Python 3 (ipykernel)",
   "language": "python",
   "name": "conda-base-py"
  },
  "language_info": {
   "codemirror_mode": {
    "name": "ipython",
    "version": 3
   },
   "file_extension": ".py",
   "mimetype": "text/x-python",
   "name": "python",
   "nbconvert_exporter": "python",
   "pygments_lexer": "ipython3",
   "version": "3.10.14"
  }
 },
 "nbformat": 4,
 "nbformat_minor": 5
}
