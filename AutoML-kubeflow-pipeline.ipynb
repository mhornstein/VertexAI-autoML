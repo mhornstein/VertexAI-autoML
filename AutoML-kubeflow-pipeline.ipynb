{
 "cells": [
  {
   "cell_type": "markdown",
   "id": "f2128cad-f12e-4317-8d7f-fc748ef41545",
   "metadata": {
    "tags": []
   },
   "source": [
    "# Introduction\n",
    "\n",
    "This notebook demonstrates how to build and deploy an AutoML model using KubeFlow Pipelines in Google's Vertex-AI environment."
   ]
  },
  {
   "cell_type": "markdown",
   "id": "ce01908c-75b0-48d4-af82-f7959c7be21b",
   "metadata": {},
   "source": [
    "# Prerequisite - Granting roles/storage.objectAdmin Permission"
   ]
  },
  {
   "cell_type": "markdown",
   "id": "73ea36cf-f999-4430-a41a-475b515f58b7",
   "metadata": {},
   "source": [
    "In case you have done so, follow these steps:\n",
    "\n",
    "1. **Go to the IAM & Admin Section:** In the Google Cloud Console, navigate to `IAM & Admin` > `IAM`.\n",
    "\n",
    "2. **Find the Service Account:** Locate the relevant service account for this notebook.\n",
    "\n",
    "3. **Edit the Permissions:** Click the pencil icon next to the service account to edit its permissions.\n",
    "\n",
    "4. **Add the Storage Object Admin Role:**\n",
    "   - Click on `Add Another Role`.\n",
    "   - In the `Role` dropdown, search for `Storage Object Admin` (**Note:** this is a very confusing UI! what you need to do is to type the role name instead of browsing through the menu to find it properly).\n",
    "   - Select the `Storage Object Admin` role.\n",
    " \n",
    "5. **Save Your Changes:**\n",
    "   - Click `Save` to apply the new permissions to the service account."
   ]
  },
  {
   "cell_type": "markdown",
   "id": "ba5f9a4f-80bf-4101-a893-c051e20c11d8",
   "metadata": {
    "tags": []
   },
   "source": [
    "# Setup"
   ]
  },
  {
   "cell_type": "markdown",
   "id": "311b4360-07a9-4c61-829c-d8bd593c81b8",
   "metadata": {
    "tags": []
   },
   "source": [
    "Installations:"
   ]
  },
  {
   "cell_type": "code",
   "execution_count": 43,
   "id": "c95583cc-1224-403f-81ef-26af1098d436",
   "metadata": {
    "tags": []
   },
   "outputs": [
    {
     "name": "stdout",
     "output_type": "stream",
     "text": [
      "\u001b[33mWARNING: Ignoring invalid distribution -rotobuf (/opt/conda/lib/python3.10/site-packages)\u001b[0m\n",
      "\u001b[33mWARNING: Ignoring invalid distribution -oogle-api-core (/opt/conda/lib/python3.10/site-packages)\u001b[0m\n",
      "\u001b[33mWARNING: Ignoring invalid distribution -rotobuf (/opt/conda/lib/python3.10/site-packages)\u001b[0m\n",
      "\u001b[33mWARNING: Ignoring invalid distribution -oogle-api-core (/opt/conda/lib/python3.10/site-packages)\u001b[0m\n",
      "\u001b[33mWARNING: Ignoring invalid distribution -rotobuf (/opt/conda/lib/python3.10/site-packages)\u001b[0m\n",
      "\u001b[33mWARNING: Ignoring invalid distribution -oogle-api-core (/opt/conda/lib/python3.10/site-packages)\u001b[0m\n",
      "\u001b[33mWARNING: Ignoring invalid distribution -rotobuf (/opt/conda/lib/python3.10/site-packages)\u001b[0m\n",
      "\u001b[33mWARNING: Ignoring invalid distribution -oogle-api-core (/opt/conda/lib/python3.10/site-packages)\u001b[0m\n",
      "\u001b[33mWARNING: Ignoring invalid distribution -rotobuf (/opt/conda/lib/python3.10/site-packages)\u001b[0m\n",
      "\u001b[33mWARNING: Ignoring invalid distribution -oogle-api-core (/opt/conda/lib/python3.10/site-packages)\u001b[0m\n",
      "\u001b[33mWARNING: Ignoring invalid distribution -rotobuf (/opt/conda/lib/python3.10/site-packages)\u001b[0m\n",
      "\u001b[33mWARNING: Ignoring invalid distribution -oogle-api-core (/opt/conda/lib/python3.10/site-packages)\u001b[0m\n"
     ]
    }
   ],
   "source": [
    "! pip3 install --upgrade --quiet google-cloud-aiplatform"
   ]
  },
  {
   "cell_type": "code",
   "execution_count": 44,
   "id": "9794249d-bd6a-443a-adb2-c993a906cd77",
   "metadata": {
    "tags": []
   },
   "outputs": [
    {
     "name": "stdout",
     "output_type": "stream",
     "text": [
      "\u001b[33mWARNING: Ignoring invalid distribution -rotobuf (/opt/conda/lib/python3.10/site-packages)\u001b[0m\n",
      "\u001b[33mWARNING: Ignoring invalid distribution -oogle-api-core (/opt/conda/lib/python3.10/site-packages)\u001b[0m\n",
      "\u001b[33mWARNING: Ignoring invalid distribution -rotobuf (/opt/conda/lib/python3.10/site-packages)\u001b[0m\n",
      "\u001b[33mWARNING: Ignoring invalid distribution -oogle-api-core (/opt/conda/lib/python3.10/site-packages)\u001b[0m\n",
      "Requirement already satisfied: gdown in /opt/conda/lib/python3.10/site-packages (5.2.0)\n",
      "Requirement already satisfied: requests[socks] in /opt/conda/lib/python3.10/site-packages (from gdown) (2.32.3)\n",
      "Requirement already satisfied: filelock in /opt/conda/lib/python3.10/site-packages (from gdown) (3.15.4)\n",
      "Requirement already satisfied: tqdm in /opt/conda/lib/python3.10/site-packages (from gdown) (4.63.0)\n",
      "Requirement already satisfied: beautifulsoup4 in /opt/conda/lib/python3.10/site-packages (from gdown) (4.12.3)\n",
      "Requirement already satisfied: soupsieve>1.2 in /opt/conda/lib/python3.10/site-packages (from beautifulsoup4->gdown) (2.5)\n",
      "Requirement already satisfied: urllib3<3,>=1.21.1 in /opt/conda/lib/python3.10/site-packages (from requests[socks]->gdown) (1.26.19)\n",
      "Requirement already satisfied: idna<4,>=2.5 in /opt/conda/lib/python3.10/site-packages (from requests[socks]->gdown) (3.3)\n",
      "Requirement already satisfied: certifi>=2017.4.17 in /opt/conda/lib/python3.10/site-packages (from requests[socks]->gdown) (2024.7.4)\n",
      "Requirement already satisfied: charset-normalizer<4,>=2 in /opt/conda/lib/python3.10/site-packages (from requests[socks]->gdown) (2.0.4)\n",
      "Requirement already satisfied: PySocks!=1.5.7,>=1.5.6 in /opt/conda/lib/python3.10/site-packages (from requests[socks]->gdown) (1.7.1)\n",
      "\u001b[33mWARNING: Ignoring invalid distribution -rotobuf (/opt/conda/lib/python3.10/site-packages)\u001b[0m\n",
      "\u001b[33mWARNING: Ignoring invalid distribution -oogle-api-core (/opt/conda/lib/python3.10/site-packages)\u001b[0m\n",
      "\u001b[33mWARNING: Ignoring invalid distribution -rotobuf (/opt/conda/lib/python3.10/site-packages)\u001b[0m\n",
      "\u001b[33mWARNING: Ignoring invalid distribution -oogle-api-core (/opt/conda/lib/python3.10/site-packages)\u001b[0m\n",
      "\u001b[33mWARNING: Ignoring invalid distribution -rotobuf (/opt/conda/lib/python3.10/site-packages)\u001b[0m\n",
      "\u001b[33mWARNING: Ignoring invalid distribution -oogle-api-core (/opt/conda/lib/python3.10/site-packages)\u001b[0m\n",
      "\u001b[33mWARNING: Ignoring invalid distribution -rotobuf (/opt/conda/lib/python3.10/site-packages)\u001b[0m\n",
      "\u001b[33mWARNING: Ignoring invalid distribution -oogle-api-core (/opt/conda/lib/python3.10/site-packages)\u001b[0m\n"
     ]
    }
   ],
   "source": [
    "!pip install gdown"
   ]
  },
  {
   "cell_type": "code",
   "execution_count": 3,
   "id": "4cac776c-b1f8-4f6c-902f-3cc736195116",
   "metadata": {
    "tags": []
   },
   "outputs": [
    {
     "name": "stdout",
     "output_type": "stream",
     "text": [
      "\u001b[33mWARNING: Ignoring invalid distribution -rotobuf (/opt/conda/lib/python3.10/site-packages)\u001b[0m\n",
      "\u001b[33mWARNING: Ignoring invalid distribution -oogle-api-core (/opt/conda/lib/python3.10/site-packages)\u001b[0m\n",
      "\u001b[33mWARNING: Ignoring invalid distribution -rotobuf (/opt/conda/lib/python3.10/site-packages)\u001b[0m\n",
      "\u001b[33mWARNING: Ignoring invalid distribution -oogle-api-core (/opt/conda/lib/python3.10/site-packages)\u001b[0m\n",
      "\u001b[33mWARNING: Ignoring invalid distribution -rotobuf (/opt/conda/lib/python3.10/site-packages)\u001b[0m\n",
      "\u001b[33mWARNING: Ignoring invalid distribution -oogle-api-core (/opt/conda/lib/python3.10/site-packages)\u001b[0m\n",
      "\u001b[33m    WARNING: Ignoring invalid distribution -rotobuf (/opt/conda/lib/python3.10/site-packages)\u001b[0m\n",
      "\u001b[33m    WARNING: Ignoring invalid distribution -oogle-api-core (/opt/conda/lib/python3.10/site-packages)\u001b[0m\n",
      "\u001b[33mWARNING: Ignoring invalid distribution -rotobuf (/opt/conda/lib/python3.10/site-packages)\u001b[0m\n",
      "\u001b[33mWARNING: Ignoring invalid distribution -oogle-api-core (/opt/conda/lib/python3.10/site-packages)\u001b[0m\n",
      "\u001b[31mERROR: pip's dependency resolver does not currently take into account all the packages that are installed. This behaviour is the source of the following dependency conflicts.\n",
      "google-cloud-pipeline-components 2.16.1 requires kfp<=2.7.0,>=2.6.0, but you have kfp 2.8.0 which is incompatible.\u001b[0m\n",
      "\u001b[33mWARNING: Ignoring invalid distribution -rotobuf (/opt/conda/lib/python3.10/site-packages)\u001b[0m\n",
      "\u001b[33mWARNING: Ignoring invalid distribution -oogle-api-core (/opt/conda/lib/python3.10/site-packages)\u001b[0m\n",
      "\u001b[33mWARNING: Ignoring invalid distribution -rotobuf (/opt/conda/lib/python3.10/site-packages)\u001b[0m\n",
      "\u001b[33mWARNING: Ignoring invalid distribution -oogle-api-core (/opt/conda/lib/python3.10/site-packages)\u001b[0m\n",
      "\u001b[33mWARNING: Ignoring invalid distribution -rotobuf (/opt/conda/lib/python3.10/site-packages)\u001b[0m\n",
      "\u001b[33mWARNING: Ignoring invalid distribution -oogle-api-core (/opt/conda/lib/python3.10/site-packages)\u001b[0m\n"
     ]
    }
   ],
   "source": [
    "!pip install kfp -U -q"
   ]
  },
  {
   "cell_type": "code",
   "execution_count": 45,
   "id": "39c341a8-a198-40d1-93b0-e98309a80623",
   "metadata": {
    "tags": []
   },
   "outputs": [
    {
     "name": "stdout",
     "output_type": "stream",
     "text": [
      "\u001b[33mWARNING: Ignoring invalid distribution -rotobuf (/opt/conda/lib/python3.10/site-packages)\u001b[0m\n",
      "\u001b[33mWARNING: Ignoring invalid distribution -oogle-api-core (/opt/conda/lib/python3.10/site-packages)\u001b[0m\n",
      "\u001b[33mWARNING: Ignoring invalid distribution -rotobuf (/opt/conda/lib/python3.10/site-packages)\u001b[0m\n",
      "\u001b[33mWARNING: Ignoring invalid distribution -oogle-api-core (/opt/conda/lib/python3.10/site-packages)\u001b[0m\n",
      "\u001b[33mWARNING: Ignoring invalid distribution -rotobuf (/opt/conda/lib/python3.10/site-packages)\u001b[0m\n",
      "\u001b[33mWARNING: Ignoring invalid distribution -oogle-api-core (/opt/conda/lib/python3.10/site-packages)\u001b[0m\n",
      "\u001b[33mWARNING: Ignoring invalid distribution -rotobuf (/opt/conda/lib/python3.10/site-packages)\u001b[0m\n",
      "\u001b[33mWARNING: Ignoring invalid distribution -oogle-api-core (/opt/conda/lib/python3.10/site-packages)\u001b[0m\n",
      "\u001b[33mWARNING: Ignoring invalid distribution -rotobuf (/opt/conda/lib/python3.10/site-packages)\u001b[0m\n",
      "\u001b[33mWARNING: Ignoring invalid distribution -oogle-api-core (/opt/conda/lib/python3.10/site-packages)\u001b[0m\n",
      "\u001b[33mWARNING: Ignoring invalid distribution -rotobuf (/opt/conda/lib/python3.10/site-packages)\u001b[0m\n",
      "\u001b[33mWARNING: Ignoring invalid distribution -oogle-api-core (/opt/conda/lib/python3.10/site-packages)\u001b[0m\n"
     ]
    }
   ],
   "source": [
    "!pip install google-cloud-pipeline-components -U -q"
   ]
  },
  {
   "cell_type": "markdown",
   "id": "659eec82-cb8d-420f-9a58-ebeba097646f",
   "metadata": {},
   "source": [
    "inputs:"
   ]
  },
  {
   "cell_type": "code",
   "execution_count": 46,
   "id": "d46be3ce-c2f3-48cb-b2c2-e202bc2bd344",
   "metadata": {
    "tags": []
   },
   "outputs": [
    {
     "name": "stdout",
     "output_type": "stream",
     "text": [
      "project id: auto-ml-433608\n"
     ]
    }
   ],
   "source": [
    "project = !gcloud config get-value project\n",
    "PROJECT_ID = project[0]\n",
    "REGION = 'us-central1'\n",
    "print(f'project id: {PROJECT_ID}')"
   ]
  },
  {
   "cell_type": "code",
   "execution_count": 47,
   "id": "8ef70ee2-9337-468a-805d-9ee74c2c6ca3",
   "metadata": {
    "tags": []
   },
   "outputs": [],
   "source": [
    "DATANAME = 'fraud'"
   ]
  },
  {
   "cell_type": "code",
   "execution_count": 48,
   "id": "9fb7b508-c589-4ab9-a386-3ba2ff6ddae9",
   "metadata": {
    "tags": []
   },
   "outputs": [],
   "source": [
    "BQ_PROJECT = PROJECT_ID\n",
    "BQ_DATASET = DATANAME\n",
    "BQ_TABLE = 'fraud_tbl'"
   ]
  },
  {
   "cell_type": "code",
   "execution_count": 49,
   "id": "d2c83e56-b557-4b6d-bc7c-5b42141c97ac",
   "metadata": {
    "tags": []
   },
   "outputs": [],
   "source": [
    "SOURCE_FILE_NAME = 'fraud_data.csv'"
   ]
  },
  {
   "cell_type": "code",
   "execution_count": 50,
   "id": "91128df7-53dd-4f81-a3a9-55b337fdcaf8",
   "metadata": {
    "tags": []
   },
   "outputs": [],
   "source": [
    "VAR_TARGET = 'Class'"
   ]
  },
  {
   "cell_type": "code",
   "execution_count": 51,
   "id": "1287bad5-60ce-40af-a6a2-251045c4680e",
   "metadata": {
    "tags": []
   },
   "outputs": [],
   "source": [
    "VAR_OMIT = ['transaction_id']  # Exclude transaction_id to prevent potential bias in the prediction"
   ]
  },
  {
   "cell_type": "markdown",
   "id": "34fe9003-46f5-42f1-ae5b-06df233bb8c0",
   "metadata": {},
   "source": [
    "packages:"
   ]
  },
  {
   "cell_type": "code",
   "execution_count": 52,
   "id": "ba968b79-75f4-452b-b3b5-ff231dba17d2",
   "metadata": {
    "tags": []
   },
   "outputs": [],
   "source": [
    "from google.cloud import aiplatform\n",
    "from google.cloud import bigquery\n",
    "from google.protobuf import json_format\n",
    "from google.protobuf.struct_pb2 import Value\n",
    "import kfp\n",
    "from google.cloud import storage\n",
    "from google_cloud_pipeline_components.v1.dataset import TabularDatasetCreateOp\n",
    "from google_cloud_pipeline_components.v1.automl.training_job import AutoMLTabularTrainingJobRunOp\n",
    "from google_cloud_pipeline_components.v1.endpoint import EndpointCreateOp, ModelDeployOp\n",
    "from kfp import compiler"
   ]
  },
  {
   "cell_type": "markdown",
   "id": "26bb7081-e1bf-4600-ac6d-9d4a75411d8d",
   "metadata": {},
   "source": [
    "clients:"
   ]
  },
  {
   "cell_type": "code",
   "execution_count": 53,
   "id": "95f7d8dc-0459-424a-9644-309116cf1a18",
   "metadata": {
    "tags": []
   },
   "outputs": [],
   "source": [
    "aiplatform.init(project=PROJECT_ID, location=REGION)\n",
    "bq = bigquery.Client(project = PROJECT_ID)"
   ]
  },
  {
   "cell_type": "markdown",
   "id": "e6e58067-77ae-4858-911b-8e9e3c1b8b3b",
   "metadata": {},
   "source": [
    "resources:"
   ]
  },
  {
   "cell_type": "code",
   "execution_count": 54,
   "id": "d01206f1-1fda-49b2-95b3-2ab2deba9bc7",
   "metadata": {
    "tags": []
   },
   "outputs": [],
   "source": [
    "DEPLOY_COMPUTE = 'n1-standard-2'"
   ]
  },
  {
   "cell_type": "markdown",
   "id": "220e3659-f58c-4432-8a33-7b0dc389b3e1",
   "metadata": {},
   "source": [
    "bucket (this is the location where all the artifacts — such as datasets, models, and logs generated by the pipeline — are stored):"
   ]
  },
  {
   "cell_type": "code",
   "execution_count": 63,
   "id": "9272eeeb-a617-49e4-b316-c0e7ec42823f",
   "metadata": {
    "tags": []
   },
   "outputs": [
    {
     "name": "stdout",
     "output_type": "stream",
     "text": [
      "Bucket auto-ml-433608 already exists.\n"
     ]
    }
   ],
   "source": [
    "# First - create the bucket if it does not exist\n",
    "BUCKET = PROJECT_ID  # Use the project ID as the bucket name\n",
    "\n",
    "storage_client = storage.Client()\n",
    "bucket = storage_client.bucket(BUCKET)\n",
    "\n",
    "if not bucket.exists():\n",
    "    bucket = storage_client.create_bucket(BUCKET, project=PROJECT_ID, location=REGION) # note: make sure to associate the bucket with the current project to enable permission futher on.\n",
    "    print(f\"Bucket {BUCKET} created.\")\n",
    "else:\n",
    "    print(f\"Bucket {BUCKET} already exists.\")\n",
    "\n",
    "# Then, declare where all artifacts are saved\n",
    "URI = f\"gs://{BUCKET}/{DATANAME}/models\""
   ]
  },
  {
   "cell_type": "markdown",
   "id": "7702506e-0281-4b00-b50e-dc2bf7801ea0",
   "metadata": {},
   "source": [
    "Fetch service account (this is needed to run the KFP):"
   ]
  },
  {
   "cell_type": "code",
   "execution_count": 15,
   "id": "03c2776c-4998-4073-a6b7-d1f85e4ab774",
   "metadata": {
    "tags": []
   },
   "outputs": [
    {
     "data": {
      "text/plain": [
       "'852126792524-compute@developer.gserviceaccount.com'"
      ]
     },
     "execution_count": 15,
     "metadata": {},
     "output_type": "execute_result"
    }
   ],
   "source": [
    "SERVICE_ACCOUNT = !gcloud config list --format='value(core.account)' \n",
    "SERVICE_ACCOUNT = SERVICE_ACCOUNT[0]\n",
    "SERVICE_ACCOUNT"
   ]
  },
  {
   "cell_type": "markdown",
   "id": "d0af6127-b3e7-482f-9b4c-eb2f3d2f0669",
   "metadata": {},
   "source": [
    "# Copy the data into BigQuery"
   ]
  },
  {
   "cell_type": "markdown",
   "id": "af0976de-c47a-474e-a860-d01dbd0d7e85",
   "metadata": {},
   "source": [
    "Note: You can view the created dataset and tables through the BigQuery menu in the GCP Console UI."
   ]
  },
  {
   "cell_type": "markdown",
   "id": "f2e8739e-c936-420a-9b59-e2a48f2f24d4",
   "metadata": {},
   "source": [
    "Create an empty BigQuery dataset (In BigQuery, tables must reside within a dataset, which is essentially a container for tables that provides organizational structure and access control to the tables):"
   ]
  },
  {
   "cell_type": "code",
   "execution_count": 64,
   "id": "dcd1a5d8-ab8c-4ee0-986f-b63104d2a718",
   "metadata": {
    "tags": []
   },
   "outputs": [],
   "source": [
    "ds = bigquery.Dataset(f\"{BQ_PROJECT}.{BQ_DATASET}\")\n",
    "ds.location = REGION\n",
    "ds = bq.create_dataset(dataset = ds, exists_ok = True)"
   ]
  },
  {
   "cell_type": "markdown",
   "id": "e6febdf7-29a3-483c-aad9-21c0aaf68f67",
   "metadata": {
    "tags": []
   },
   "source": [
    "In his tutorial, Mike uses a predefined dataset from this source table. Let's store its location in a variable:"
   ]
  },
  {
   "cell_type": "code",
   "execution_count": 17,
   "id": "aab28ff2-f604-411d-9d99-e296e6ccdf55",
   "metadata": {
    "tags": []
   },
   "outputs": [],
   "source": [
    "BQ_SOURCE = 'bigquery-public-data.ml_datasets.ulb_fraud_detection'"
   ]
  },
  {
   "cell_type": "markdown",
   "id": "33e63e2b-1e79-4101-bad6-eecfc83ec36a",
   "metadata": {},
   "source": [
    "Store the table name in the `table_ref` variable for future reuse:"
   ]
  },
  {
   "cell_type": "code",
   "execution_count": 18,
   "id": "601db23e-2f3e-414b-9136-58af1bc0df7f",
   "metadata": {
    "tags": []
   },
   "outputs": [],
   "source": [
    "table_ref = f\"{BQ_PROJECT}.{BQ_DATASET}.{BQ_TABLE}\""
   ]
  },
  {
   "cell_type": "markdown",
   "id": "7bc1d92d-bca0-4997-a2d7-b2e72f511290",
   "metadata": {},
   "source": [
    "Copy data from the public BigQuery table to our own BigQuery table using the `copy_table` method:"
   ]
  },
  {
   "cell_type": "code",
   "execution_count": 19,
   "id": "2bf03e8a-5a9a-4f1b-8e4c-e28bb4f300ad",
   "metadata": {
    "tags": []
   },
   "outputs": [
    {
     "data": {
      "text/plain": [
       "CopyJob<project=auto-ml-433608, location=US, id=61126da7-ed0a-406a-89d2-31bce67493aa>"
      ]
     },
     "execution_count": 19,
     "metadata": {},
     "output_type": "execute_result"
    }
   ],
   "source": [
    "job = bq.copy_table(\n",
    "    sources=BQ_SOURCE,\n",
    "    destination=table_ref,\n",
    "    job_config=bigquery.CopyJobConfig(write_disposition=\"WRITE_TRUNCATE\")\n",
    ")\n",
    "\n",
    "# Wait for the job to complete\n",
    "job.result()"
   ]
  },
  {
   "cell_type": "markdown",
   "id": "9c72d068-67de-455d-ad94-f6311932b465",
   "metadata": {},
   "source": [
    "Present a subset of the data:"
   ]
  },
  {
   "cell_type": "code",
   "execution_count": 20,
   "id": "8d2de76a-208b-47a7-beb4-4f49918cce3c",
   "metadata": {
    "tags": []
   },
   "outputs": [
    {
     "data": {
      "text/html": [
       "<div>\n",
       "<style scoped>\n",
       "    .dataframe tbody tr th:only-of-type {\n",
       "        vertical-align: middle;\n",
       "    }\n",
       "\n",
       "    .dataframe tbody tr th {\n",
       "        vertical-align: top;\n",
       "    }\n",
       "\n",
       "    .dataframe thead th {\n",
       "        text-align: right;\n",
       "    }\n",
       "</style>\n",
       "<table border=\"1\" class=\"dataframe\">\n",
       "  <thead>\n",
       "    <tr style=\"text-align: right;\">\n",
       "      <th></th>\n",
       "      <th>Time</th>\n",
       "      <th>V1</th>\n",
       "      <th>V2</th>\n",
       "      <th>V3</th>\n",
       "      <th>V4</th>\n",
       "      <th>V5</th>\n",
       "      <th>V6</th>\n",
       "      <th>V7</th>\n",
       "      <th>V8</th>\n",
       "      <th>V9</th>\n",
       "      <th>...</th>\n",
       "      <th>V21</th>\n",
       "      <th>V22</th>\n",
       "      <th>V23</th>\n",
       "      <th>V24</th>\n",
       "      <th>V25</th>\n",
       "      <th>V26</th>\n",
       "      <th>V27</th>\n",
       "      <th>V28</th>\n",
       "      <th>Amount</th>\n",
       "      <th>Class</th>\n",
       "    </tr>\n",
       "  </thead>\n",
       "  <tbody>\n",
       "    <tr>\n",
       "      <th>0</th>\n",
       "      <td>282.0</td>\n",
       "      <td>-0.356466</td>\n",
       "      <td>0.725418</td>\n",
       "      <td>1.971749</td>\n",
       "      <td>0.831343</td>\n",
       "      <td>0.369681</td>\n",
       "      <td>-0.107776</td>\n",
       "      <td>0.751610</td>\n",
       "      <td>-0.120166</td>\n",
       "      <td>-0.420675</td>\n",
       "      <td>...</td>\n",
       "      <td>0.020804</td>\n",
       "      <td>0.424312</td>\n",
       "      <td>-0.015989</td>\n",
       "      <td>0.466754</td>\n",
       "      <td>-0.809962</td>\n",
       "      <td>0.657334</td>\n",
       "      <td>-0.043150</td>\n",
       "      <td>-0.046401</td>\n",
       "      <td>0.0</td>\n",
       "      <td>0</td>\n",
       "    </tr>\n",
       "    <tr>\n",
       "      <th>1</th>\n",
       "      <td>14332.0</td>\n",
       "      <td>1.071950</td>\n",
       "      <td>0.340678</td>\n",
       "      <td>1.784068</td>\n",
       "      <td>2.846396</td>\n",
       "      <td>-0.751538</td>\n",
       "      <td>0.403028</td>\n",
       "      <td>-0.734920</td>\n",
       "      <td>0.205807</td>\n",
       "      <td>1.092726</td>\n",
       "      <td>...</td>\n",
       "      <td>-0.169632</td>\n",
       "      <td>-0.113604</td>\n",
       "      <td>0.067643</td>\n",
       "      <td>0.468669</td>\n",
       "      <td>0.223541</td>\n",
       "      <td>-0.112355</td>\n",
       "      <td>0.014015</td>\n",
       "      <td>0.021504</td>\n",
       "      <td>0.0</td>\n",
       "      <td>0</td>\n",
       "    </tr>\n",
       "    <tr>\n",
       "      <th>2</th>\n",
       "      <td>32799.0</td>\n",
       "      <td>1.153477</td>\n",
       "      <td>-0.047859</td>\n",
       "      <td>1.358363</td>\n",
       "      <td>1.480620</td>\n",
       "      <td>-1.222598</td>\n",
       "      <td>-0.481690</td>\n",
       "      <td>-0.654461</td>\n",
       "      <td>0.128115</td>\n",
       "      <td>0.907095</td>\n",
       "      <td>...</td>\n",
       "      <td>0.125514</td>\n",
       "      <td>0.480049</td>\n",
       "      <td>-0.025964</td>\n",
       "      <td>0.701843</td>\n",
       "      <td>0.417245</td>\n",
       "      <td>-0.257691</td>\n",
       "      <td>0.060115</td>\n",
       "      <td>0.035332</td>\n",
       "      <td>0.0</td>\n",
       "      <td>0</td>\n",
       "    </tr>\n",
       "    <tr>\n",
       "      <th>3</th>\n",
       "      <td>35799.0</td>\n",
       "      <td>-0.769798</td>\n",
       "      <td>0.622325</td>\n",
       "      <td>0.242491</td>\n",
       "      <td>-0.586652</td>\n",
       "      <td>0.527819</td>\n",
       "      <td>-0.104512</td>\n",
       "      <td>0.209909</td>\n",
       "      <td>0.669861</td>\n",
       "      <td>-0.304509</td>\n",
       "      <td>...</td>\n",
       "      <td>0.152738</td>\n",
       "      <td>0.255654</td>\n",
       "      <td>-0.130237</td>\n",
       "      <td>-0.660934</td>\n",
       "      <td>-0.493374</td>\n",
       "      <td>0.331855</td>\n",
       "      <td>-0.011101</td>\n",
       "      <td>0.049089</td>\n",
       "      <td>0.0</td>\n",
       "      <td>0</td>\n",
       "    </tr>\n",
       "    <tr>\n",
       "      <th>4</th>\n",
       "      <td>36419.0</td>\n",
       "      <td>1.047960</td>\n",
       "      <td>0.145048</td>\n",
       "      <td>1.624573</td>\n",
       "      <td>2.932652</td>\n",
       "      <td>-0.726574</td>\n",
       "      <td>0.690451</td>\n",
       "      <td>-0.627288</td>\n",
       "      <td>0.278709</td>\n",
       "      <td>0.318434</td>\n",
       "      <td>...</td>\n",
       "      <td>0.078499</td>\n",
       "      <td>0.658942</td>\n",
       "      <td>-0.067810</td>\n",
       "      <td>0.476882</td>\n",
       "      <td>0.526830</td>\n",
       "      <td>0.219902</td>\n",
       "      <td>0.070627</td>\n",
       "      <td>0.028488</td>\n",
       "      <td>0.0</td>\n",
       "      <td>0</td>\n",
       "    </tr>\n",
       "  </tbody>\n",
       "</table>\n",
       "<p>5 rows × 31 columns</p>\n",
       "</div>"
      ],
      "text/plain": [
       "      Time        V1        V2        V3        V4        V5        V6  \\\n",
       "0    282.0 -0.356466  0.725418  1.971749  0.831343  0.369681 -0.107776   \n",
       "1  14332.0  1.071950  0.340678  1.784068  2.846396 -0.751538  0.403028   \n",
       "2  32799.0  1.153477 -0.047859  1.358363  1.480620 -1.222598 -0.481690   \n",
       "3  35799.0 -0.769798  0.622325  0.242491 -0.586652  0.527819 -0.104512   \n",
       "4  36419.0  1.047960  0.145048  1.624573  2.932652 -0.726574  0.690451   \n",
       "\n",
       "         V7        V8        V9  ...       V21       V22       V23       V24  \\\n",
       "0  0.751610 -0.120166 -0.420675  ...  0.020804  0.424312 -0.015989  0.466754   \n",
       "1 -0.734920  0.205807  1.092726  ... -0.169632 -0.113604  0.067643  0.468669   \n",
       "2 -0.654461  0.128115  0.907095  ...  0.125514  0.480049 -0.025964  0.701843   \n",
       "3  0.209909  0.669861 -0.304509  ...  0.152738  0.255654 -0.130237 -0.660934   \n",
       "4 -0.627288  0.278709  0.318434  ...  0.078499  0.658942 -0.067810  0.476882   \n",
       "\n",
       "        V25       V26       V27       V28  Amount  Class  \n",
       "0 -0.809962  0.657334 -0.043150 -0.046401     0.0      0  \n",
       "1  0.223541 -0.112355  0.014015  0.021504     0.0      0  \n",
       "2  0.417245 -0.257691  0.060115  0.035332     0.0      0  \n",
       "3 -0.493374  0.331855 -0.011101  0.049089     0.0      0  \n",
       "4  0.526830  0.219902  0.070627  0.028488     0.0      0  \n",
       "\n",
       "[5 rows x 31 columns]"
      ]
     },
     "execution_count": 20,
     "metadata": {},
     "output_type": "execute_result"
    }
   ],
   "source": [
    "query = f\"\"\"\n",
    "SELECT *\n",
    "FROM {table_ref}\n",
    "LIMIT 5\n",
    "\"\"\"\n",
    "bq.query(query = query).to_dataframe()"
   ]
  },
  {
   "cell_type": "markdown",
   "id": "800311c4-7a72-4e7b-aa78-856b8e911d8e",
   "metadata": {},
   "source": [
    "Display target class imbalance:"
   ]
  },
  {
   "cell_type": "code",
   "execution_count": 21,
   "id": "be34fb94-bb69-4375-b885-7fe21d21617c",
   "metadata": {
    "tags": []
   },
   "outputs": [],
   "source": [
    "query = f\"\"\"\n",
    "SELECT {VAR_TARGET}\n",
    "FROM {table_ref}\n",
    "\"\"\"\n",
    "df = bq.query(query = query).to_dataframe()"
   ]
  },
  {
   "cell_type": "code",
   "execution_count": 22,
   "id": "dd83e25b-47a6-49fb-a059-f104f06a61ef",
   "metadata": {
    "tags": []
   },
   "outputs": [
    {
     "data": {
      "text/plain": [
       "Class\n",
       "0    284315\n",
       "1       492\n",
       "Name: count, dtype: Int64"
      ]
     },
     "execution_count": 22,
     "metadata": {},
     "output_type": "execute_result"
    }
   ],
   "source": [
    "df[VAR_TARGET].value_counts()"
   ]
  },
  {
   "cell_type": "markdown",
   "id": "7b3ee763-091f-493b-ae5e-575181c22007",
   "metadata": {},
   "source": [
    "As this data was already researched by Mike, I'll use his methods for splitting the data into train, validation and test sets:"
   ]
  },
  {
   "cell_type": "code",
   "execution_count": 23,
   "id": "37aedc73-e4c4-486b-a976-045f27cbb430",
   "metadata": {},
   "outputs": [],
   "source": [
    "table_ref_prepped = f'{table_ref}_prepped'"
   ]
  },
  {
   "cell_type": "code",
   "execution_count": 24,
   "id": "6c54642e-b21e-4213-ba70-541b5fab8e16",
   "metadata": {
    "tags": []
   },
   "outputs": [],
   "source": [
    "query = f\"\"\"\n",
    "CREATE TABLE IF NOT EXISTS {table_ref_prepped} AS\n",
    "WITH add_id AS(SELECT *, GENERATE_UUID() transaction_id FROM {table_ref})\n",
    "SELECT *,\n",
    "    CASE \n",
    "        WHEN MOD(ABS(FARM_FINGERPRINT(transaction_id)),10) < 8 THEN \"TRAIN\" \n",
    "        WHEN MOD(ABS(FARM_FINGERPRINT(transaction_id)),10) < 9 THEN \"VALIDATE\"\n",
    "        ELSE \"TEST\"\n",
    "    END AS splits\n",
    "FROM add_id\n",
    "\"\"\"\n",
    "job = bq.query(query = query)\n",
    "job.result();"
   ]
  },
  {
   "cell_type": "code",
   "execution_count": 25,
   "id": "9fc8ced3-f8e8-429e-b512-bfc91b3fe4f9",
   "metadata": {
    "tags": []
   },
   "outputs": [
    {
     "data": {
      "text/html": [
       "<div>\n",
       "<style scoped>\n",
       "    .dataframe tbody tr th:only-of-type {\n",
       "        vertical-align: middle;\n",
       "    }\n",
       "\n",
       "    .dataframe tbody tr th {\n",
       "        vertical-align: top;\n",
       "    }\n",
       "\n",
       "    .dataframe thead th {\n",
       "        text-align: right;\n",
       "    }\n",
       "</style>\n",
       "<table border=\"1\" class=\"dataframe\">\n",
       "  <thead>\n",
       "    <tr style=\"text-align: right;\">\n",
       "      <th></th>\n",
       "      <th>Time</th>\n",
       "      <th>V1</th>\n",
       "      <th>V2</th>\n",
       "      <th>V3</th>\n",
       "      <th>V4</th>\n",
       "      <th>V5</th>\n",
       "      <th>V6</th>\n",
       "      <th>V7</th>\n",
       "      <th>V8</th>\n",
       "      <th>V9</th>\n",
       "      <th>...</th>\n",
       "      <th>V23</th>\n",
       "      <th>V24</th>\n",
       "      <th>V25</th>\n",
       "      <th>V26</th>\n",
       "      <th>V27</th>\n",
       "      <th>V28</th>\n",
       "      <th>Amount</th>\n",
       "      <th>Class</th>\n",
       "      <th>transaction_id</th>\n",
       "      <th>splits</th>\n",
       "    </tr>\n",
       "  </thead>\n",
       "  <tbody>\n",
       "    <tr>\n",
       "      <th>0</th>\n",
       "      <td>98613.0</td>\n",
       "      <td>-1.820628</td>\n",
       "      <td>0.888206</td>\n",
       "      <td>2.038108</td>\n",
       "      <td>4.655394</td>\n",
       "      <td>0.516503</td>\n",
       "      <td>0.963782</td>\n",
       "      <td>-0.073547</td>\n",
       "      <td>-0.531916</td>\n",
       "      <td>0.804342</td>\n",
       "      <td>...</td>\n",
       "      <td>-0.713458</td>\n",
       "      <td>0.071052</td>\n",
       "      <td>-1.159000</td>\n",
       "      <td>0.087573</td>\n",
       "      <td>-1.994611</td>\n",
       "      <td>-1.255829</td>\n",
       "      <td>0.0</td>\n",
       "      <td>0</td>\n",
       "      <td>6e957e60-42c6-466e-abdc-c568efd04caa</td>\n",
       "      <td>TEST</td>\n",
       "    </tr>\n",
       "    <tr>\n",
       "      <th>1</th>\n",
       "      <td>111609.0</td>\n",
       "      <td>-0.180465</td>\n",
       "      <td>0.835427</td>\n",
       "      <td>2.273727</td>\n",
       "      <td>3.454970</td>\n",
       "      <td>0.392090</td>\n",
       "      <td>1.373568</td>\n",
       "      <td>0.080636</td>\n",
       "      <td>0.348706</td>\n",
       "      <td>-0.781180</td>\n",
       "      <td>...</td>\n",
       "      <td>0.014647</td>\n",
       "      <td>-0.483666</td>\n",
       "      <td>-1.047812</td>\n",
       "      <td>-0.224563</td>\n",
       "      <td>0.069435</td>\n",
       "      <td>-0.020487</td>\n",
       "      <td>0.0</td>\n",
       "      <td>0</td>\n",
       "      <td>adc6e20d-749d-444e-b504-103e8696f0d5</td>\n",
       "      <td>TEST</td>\n",
       "    </tr>\n",
       "    <tr>\n",
       "      <th>2</th>\n",
       "      <td>43401.0</td>\n",
       "      <td>-2.635594</td>\n",
       "      <td>-1.718653</td>\n",
       "      <td>3.486492</td>\n",
       "      <td>2.314429</td>\n",
       "      <td>1.695480</td>\n",
       "      <td>-0.741773</td>\n",
       "      <td>-0.080626</td>\n",
       "      <td>-0.627473</td>\n",
       "      <td>0.966730</td>\n",
       "      <td>...</td>\n",
       "      <td>-0.371690</td>\n",
       "      <td>0.750777</td>\n",
       "      <td>0.533737</td>\n",
       "      <td>-0.039465</td>\n",
       "      <td>-1.359515</td>\n",
       "      <td>0.194798</td>\n",
       "      <td>0.0</td>\n",
       "      <td>0</td>\n",
       "      <td>6df2f069-bcb7-454a-addf-505449888932</td>\n",
       "      <td>TEST</td>\n",
       "    </tr>\n",
       "    <tr>\n",
       "      <th>3</th>\n",
       "      <td>130056.0</td>\n",
       "      <td>-0.898095</td>\n",
       "      <td>0.258794</td>\n",
       "      <td>-0.538865</td>\n",
       "      <td>0.357619</td>\n",
       "      <td>1.857844</td>\n",
       "      <td>-1.848721</td>\n",
       "      <td>1.402781</td>\n",
       "      <td>-0.544210</td>\n",
       "      <td>-1.002486</td>\n",
       "      <td>...</td>\n",
       "      <td>-0.045687</td>\n",
       "      <td>0.084101</td>\n",
       "      <td>0.593757</td>\n",
       "      <td>0.888608</td>\n",
       "      <td>-0.058665</td>\n",
       "      <td>0.139458</td>\n",
       "      <td>0.0</td>\n",
       "      <td>0</td>\n",
       "      <td>7daf067e-a0bf-477f-a065-1d6c41d98f52</td>\n",
       "      <td>TEST</td>\n",
       "    </tr>\n",
       "    <tr>\n",
       "      <th>4</th>\n",
       "      <td>143587.0</td>\n",
       "      <td>-4.582379</td>\n",
       "      <td>0.613848</td>\n",
       "      <td>-0.082160</td>\n",
       "      <td>4.902569</td>\n",
       "      <td>-0.514139</td>\n",
       "      <td>0.909529</td>\n",
       "      <td>-1.010604</td>\n",
       "      <td>2.021461</td>\n",
       "      <td>-2.105643</td>\n",
       "      <td>...</td>\n",
       "      <td>0.782869</td>\n",
       "      <td>0.761510</td>\n",
       "      <td>0.363316</td>\n",
       "      <td>0.101866</td>\n",
       "      <td>0.948789</td>\n",
       "      <td>-1.021357</td>\n",
       "      <td>0.0</td>\n",
       "      <td>0</td>\n",
       "      <td>a6acb126-2d84-4450-a4b2-95c5739f798f</td>\n",
       "      <td>TEST</td>\n",
       "    </tr>\n",
       "  </tbody>\n",
       "</table>\n",
       "<p>5 rows × 33 columns</p>\n",
       "</div>"
      ],
      "text/plain": [
       "       Time        V1        V2        V3        V4        V5        V6  \\\n",
       "0   98613.0 -1.820628  0.888206  2.038108  4.655394  0.516503  0.963782   \n",
       "1  111609.0 -0.180465  0.835427  2.273727  3.454970  0.392090  1.373568   \n",
       "2   43401.0 -2.635594 -1.718653  3.486492  2.314429  1.695480 -0.741773   \n",
       "3  130056.0 -0.898095  0.258794 -0.538865  0.357619  1.857844 -1.848721   \n",
       "4  143587.0 -4.582379  0.613848 -0.082160  4.902569 -0.514139  0.909529   \n",
       "\n",
       "         V7        V8        V9  ...       V23       V24       V25       V26  \\\n",
       "0 -0.073547 -0.531916  0.804342  ... -0.713458  0.071052 -1.159000  0.087573   \n",
       "1  0.080636  0.348706 -0.781180  ...  0.014647 -0.483666 -1.047812 -0.224563   \n",
       "2 -0.080626 -0.627473  0.966730  ... -0.371690  0.750777  0.533737 -0.039465   \n",
       "3  1.402781 -0.544210 -1.002486  ... -0.045687  0.084101  0.593757  0.888608   \n",
       "4 -1.010604  2.021461 -2.105643  ...  0.782869  0.761510  0.363316  0.101866   \n",
       "\n",
       "        V27       V28  Amount  Class                        transaction_id  \\\n",
       "0 -1.994611 -1.255829     0.0      0  6e957e60-42c6-466e-abdc-c568efd04caa   \n",
       "1  0.069435 -0.020487     0.0      0  adc6e20d-749d-444e-b504-103e8696f0d5   \n",
       "2 -1.359515  0.194798     0.0      0  6df2f069-bcb7-454a-addf-505449888932   \n",
       "3 -0.058665  0.139458     0.0      0  7daf067e-a0bf-477f-a065-1d6c41d98f52   \n",
       "4  0.948789 -1.021357     0.0      0  a6acb126-2d84-4450-a4b2-95c5739f798f   \n",
       "\n",
       "   splits  \n",
       "0    TEST  \n",
       "1    TEST  \n",
       "2    TEST  \n",
       "3    TEST  \n",
       "4    TEST  \n",
       "\n",
       "[5 rows x 33 columns]"
      ]
     },
     "execution_count": 25,
     "metadata": {},
     "output_type": "execute_result"
    }
   ],
   "source": [
    "query = f\"\"\"\n",
    "SELECT *\n",
    "FROM {table_ref_prepped} LIMIT 5\n",
    "\"\"\"\n",
    "bq.query(query = query).to_dataframe()"
   ]
  },
  {
   "cell_type": "markdown",
   "id": "f625fabe-ca09-43d8-9f85-3bd145e5a021",
   "metadata": {},
   "source": [
    "Verifying Proper Stratified Ratios Across Training, Validation, and Test Splits:"
   ]
  },
  {
   "cell_type": "code",
   "execution_count": 26,
   "id": "e534cb2e-2887-4415-96b5-56e6419652a6",
   "metadata": {
    "tags": []
   },
   "outputs": [],
   "source": [
    "query = f\"\"\"\n",
    "SELECT \n",
    "    splits,\n",
    "    COUNTIF({VAR_TARGET} = 1) AS fraud_count,\n",
    "    COUNTIF({VAR_TARGET} = 0) AS not_fraud_count\n",
    "FROM \n",
    "    {table_ref_prepped}\n",
    "GROUP BY \n",
    "    splits\n",
    "ORDER BY \n",
    "    splits;\n",
    "\"\"\"\n",
    "\n",
    "df = bq.query(query).to_dataframe()"
   ]
  },
  {
   "cell_type": "code",
   "execution_count": 27,
   "id": "b0d04adf-076f-4181-b1e6-05a9dbfeeb49",
   "metadata": {
    "tags": []
   },
   "outputs": [
    {
     "data": {
      "text/html": [
       "<div>\n",
       "<style scoped>\n",
       "    .dataframe tbody tr th:only-of-type {\n",
       "        vertical-align: middle;\n",
       "    }\n",
       "\n",
       "    .dataframe tbody tr th {\n",
       "        vertical-align: top;\n",
       "    }\n",
       "\n",
       "    .dataframe thead th {\n",
       "        text-align: right;\n",
       "    }\n",
       "</style>\n",
       "<table border=\"1\" class=\"dataframe\">\n",
       "  <thead>\n",
       "    <tr style=\"text-align: right;\">\n",
       "      <th></th>\n",
       "      <th>splits</th>\n",
       "      <th>fraud_count</th>\n",
       "      <th>not_fraud_count</th>\n",
       "      <th>total_count</th>\n",
       "      <th>fraud_count_%</th>\n",
       "      <th>not_fraud_count_%</th>\n",
       "    </tr>\n",
       "  </thead>\n",
       "  <tbody>\n",
       "    <tr>\n",
       "      <th>0</th>\n",
       "      <td>TEST</td>\n",
       "      <td>48</td>\n",
       "      <td>28573</td>\n",
       "      <td>28621</td>\n",
       "      <td>0.167709</td>\n",
       "      <td>99.832291</td>\n",
       "    </tr>\n",
       "    <tr>\n",
       "      <th>1</th>\n",
       "      <td>TRAIN</td>\n",
       "      <td>407</td>\n",
       "      <td>227421</td>\n",
       "      <td>227828</td>\n",
       "      <td>0.178644</td>\n",
       "      <td>99.821356</td>\n",
       "    </tr>\n",
       "    <tr>\n",
       "      <th>2</th>\n",
       "      <td>VALIDATE</td>\n",
       "      <td>37</td>\n",
       "      <td>28321</td>\n",
       "      <td>28358</td>\n",
       "      <td>0.130475</td>\n",
       "      <td>99.869525</td>\n",
       "    </tr>\n",
       "  </tbody>\n",
       "</table>\n",
       "</div>"
      ],
      "text/plain": [
       "     splits  fraud_count  not_fraud_count  total_count  fraud_count_%  \\\n",
       "0      TEST           48            28573        28621       0.167709   \n",
       "1     TRAIN          407           227421       227828       0.178644   \n",
       "2  VALIDATE           37            28321        28358       0.130475   \n",
       "\n",
       "   not_fraud_count_%  \n",
       "0          99.832291  \n",
       "1          99.821356  \n",
       "2          99.869525  "
      ]
     },
     "execution_count": 27,
     "metadata": {},
     "output_type": "execute_result"
    }
   ],
   "source": [
    "df['total_count'] = df['fraud_count'] + df['not_fraud_count']\n",
    "df['fraud_count_%'] = df['fraud_count'] / df['total_count'] * 100\n",
    "df['not_fraud_count_%'] = df['not_fraud_count'] / df['total_count'] * 100\n",
    "df"
   ]
  },
  {
   "cell_type": "markdown",
   "id": "99859621-e8ba-4a2d-a5a7-9da325367f52",
   "metadata": {},
   "source": [
    "# Creating the pipeline"
   ]
  },
  {
   "cell_type": "code",
   "execution_count": 28,
   "id": "9d11c28e-1370-4425-94d1-89dadd2195c9",
   "metadata": {
    "tags": []
   },
   "outputs": [],
   "source": [
    "@kfp.dsl.pipeline(\n",
    "    name = f'kfp-{DATANAME}',\n",
    "    pipeline_root = URI+'/kfp/'\n",
    ")\n",
    "def pipeline(\n",
    "    project: str,\n",
    "    dataname: str,\n",
    "    display_name: str,\n",
    "    deploy_machine: str,\n",
    "    bq_source: str,\n",
    "    var_target: str,\n",
    "    var_omit: str,\n",
    "    features: dict,\n",
    "):\n",
    "    \n",
    "    # dataset\n",
    "    dataset = TabularDatasetCreateOp(\n",
    "        project = project,\n",
    "        display_name = display_name,\n",
    "        bq_source = bq_source,\n",
    "    )\n",
    "    \n",
    "    # training\n",
    "    model = AutoMLTabularTrainingJobRunOp(\n",
    "        project = project,\n",
    "        display_name = display_name,\n",
    "        optimization_prediction_type = \"classification\",\n",
    "        optimization_objective = \"maximize-au-prc\",\n",
    "        budget_milli_node_hours = 1000,\n",
    "        disable_early_stopping=False,\n",
    "        column_specs = features,\n",
    "        dataset = dataset.outputs['dataset'],\n",
    "        target_column = var_target,\n",
    "        predefined_split_column_name = 'splits',\n",
    "    )\n",
    "    \n",
    "    # Endpoint: Creation\n",
    "    endpoint = EndpointCreateOp(\n",
    "        project = project,\n",
    "        display_name = display_name,\n",
    "    )\n",
    "    \n",
    "    # Endpoint: Deployment of Model\n",
    "    deployment = ModelDeployOp(\n",
    "        model = model.outputs[\"model\"],\n",
    "        endpoint = endpoint.outputs[\"endpoint\"],\n",
    "        dedicated_resources_min_replica_count = 1,\n",
    "        dedicated_resources_max_replica_count = 1,\n",
    "        traffic_split = {\"0\": 100},\n",
    "        dedicated_resources_machine_type= deploy_machine\n",
    "    )"
   ]
  },
  {
   "cell_type": "markdown",
   "id": "2953057b-4eda-4f8c-b99b-5c9cd8bd085e",
   "metadata": {},
   "source": [
    "Compile the pipeline:"
   ]
  },
  {
   "cell_type": "code",
   "execution_count": 29,
   "id": "43f3f2e5-5900-476e-b97c-74372c04a004",
   "metadata": {
    "tags": []
   },
   "outputs": [],
   "source": [
    "pipeline_path = \"./pipeline.json\""
   ]
  },
  {
   "cell_type": "code",
   "execution_count": 30,
   "id": "e6fd4736-d2b2-4a77-800e-63d32e4f4ca7",
   "metadata": {
    "tags": []
   },
   "outputs": [],
   "source": [
    "compiler.Compiler().compile(\n",
    "    pipeline_func = pipeline,\n",
    "    package_path = pipeline_path\n",
    ")"
   ]
  },
  {
   "cell_type": "markdown",
   "id": "e79e022c-226b-4d8f-8e65-3dca8ab057df",
   "metadata": {},
   "source": [
    "Move the compiled pipeline file to the Bucket:"
   ]
  },
  {
   "cell_type": "code",
   "execution_count": 31,
   "id": "ebe83b6f-0f51-430f-83f1-b7e6204eb32c",
   "metadata": {
    "tags": []
   },
   "outputs": [
    {
     "name": "stdout",
     "output_type": "stream",
     "text": [
      "./pipeline.json\n"
     ]
    }
   ],
   "source": [
    "print(pipeline_path)"
   ]
  },
  {
   "cell_type": "code",
   "execution_count": 32,
   "id": "2be868b7-9115-416d-a01e-a7714056c731",
   "metadata": {
    "tags": []
   },
   "outputs": [
    {
     "name": "stdout",
     "output_type": "stream",
     "text": [
      "Copying file://./pipeline.json [Content-Type=application/json]...\n",
      "/ [1 files][ 46.2 KiB/ 46.2 KiB]                                                \n",
      "Operation completed over 1 objects/46.2 KiB.                                     \n"
     ]
    }
   ],
   "source": [
    "!gsutil cp {pipeline_path} {URI}/kfp/"
   ]
  },
  {
   "cell_type": "markdown",
   "id": "ddd1c196-374b-4ea2-b4df-024c6d47d614",
   "metadata": {},
   "source": [
    "# Create Vertex AI Pipeline Job and run the model"
   ]
  },
  {
   "cell_type": "markdown",
   "id": "07d1055b-c158-4a2f-91c4-c555b64c8997",
   "metadata": {},
   "source": [
    "Get features for the pipeline input:"
   ]
  },
  {
   "cell_type": "code",
   "execution_count": 33,
   "id": "f609e8b3-73e3-4296-a221-96b21fc2355a",
   "metadata": {
    "tags": []
   },
   "outputs": [
    {
     "name": "stdout",
     "output_type": "stream",
     "text": [
      "Used features are: ['Time', 'V1', 'V2', 'V3', 'V4', 'V5', 'V6', 'V7', 'V8', 'V9', 'V10', 'V11', 'V12', 'V13', 'V14', 'V15', 'V16', 'V17', 'V18', 'V19', 'V20', 'V21', 'V22', 'V23', 'V24', 'V25', 'V26', 'V27', 'V28', 'Amount']\n"
     ]
    }
   ],
   "source": [
    "table = bq.get_table(table_ref_prepped)\n",
    "columns = [schema_field.name for schema_field in table.schema]\n",
    "# print(\"Columns in the table:\", columns)\n",
    "\n",
    "columns_to_omit = VAR_OMIT + [VAR_TARGET, 'splits']\n",
    "filtered_columns = [col for col in columns if col not in columns_to_omit]\n",
    "print(\"Used features are:\", filtered_columns)"
   ]
  },
  {
   "cell_type": "code",
   "execution_count": 34,
   "id": "3a829093-ab8b-4fed-9e98-9a18d99bd96b",
   "metadata": {
    "tags": []
   },
   "outputs": [],
   "source": [
    "features = dict.fromkeys(filtered_columns, 'auto')"
   ]
  },
  {
   "cell_type": "code",
   "execution_count": 35,
   "id": "f409b6b6-d59e-4f6d-a895-ad5672915600",
   "metadata": {
    "tags": []
   },
   "outputs": [],
   "source": [
    "pipeline = aiplatform.PipelineJob(\n",
    "    display_name = DATANAME,\n",
    "    template_path = f\"{URI}/kfp/pipeline.json\",\n",
    "    parameter_values = {\n",
    "        \"project\" : PROJECT_ID,\n",
    "        \"dataname\" : DATANAME,\n",
    "        \"display_name\" : DATANAME,\n",
    "        \"deploy_machine\" : DEPLOY_COMPUTE,\n",
    "        \"bq_source\" : f'bq://{table_ref_prepped}',\n",
    "        \"var_target\" : VAR_TARGET,\n",
    "        \"var_omit\" : VAR_OMIT,\n",
    "        \"features\" : features,      \n",
    "    },\n",
    "    enable_caching=False\n",
    ")"
   ]
  },
  {
   "cell_type": "markdown",
   "id": "6b348623-93e7-40b5-88f2-4597913b9f33",
   "metadata": {},
   "source": [
    "Finally - run the job:"
   ]
  },
  {
   "cell_type": "code",
   "execution_count": 36,
   "id": "d85d3c50-abef-42d8-88e7-d861d49b9ee7",
   "metadata": {
    "tags": []
   },
   "outputs": [
    {
     "name": "stdout",
     "output_type": "stream",
     "text": [
      "Creating PipelineJob\n",
      "PipelineJob created. Resource name: projects/852126792524/locations/us-central1/pipelineJobs/kfp-fraud-20240829063045\n",
      "To use this PipelineJob in another session:\n",
      "pipeline_job = aiplatform.PipelineJob.get('projects/852126792524/locations/us-central1/pipelineJobs/kfp-fraud-20240829063045')\n",
      "View Pipeline Job:\n",
      "https://console.cloud.google.com/vertex-ai/locations/us-central1/pipelines/runs/kfp-fraud-20240829063045?project=852126792524\n",
      "PipelineJob projects/852126792524/locations/us-central1/pipelineJobs/kfp-fraud-20240829063045 current state:\n",
      "PipelineState.PIPELINE_STATE_RUNNING\n",
      "PipelineJob projects/852126792524/locations/us-central1/pipelineJobs/kfp-fraud-20240829063045 current state:\n",
      "PipelineState.PIPELINE_STATE_RUNNING\n",
      "PipelineJob projects/852126792524/locations/us-central1/pipelineJobs/kfp-fraud-20240829063045 current state:\n",
      "PipelineState.PIPELINE_STATE_RUNNING\n",
      "PipelineJob projects/852126792524/locations/us-central1/pipelineJobs/kfp-fraud-20240829063045 current state:\n",
      "PipelineState.PIPELINE_STATE_RUNNING\n",
      "PipelineJob projects/852126792524/locations/us-central1/pipelineJobs/kfp-fraud-20240829063045 current state:\n",
      "PipelineState.PIPELINE_STATE_RUNNING\n",
      "PipelineJob projects/852126792524/locations/us-central1/pipelineJobs/kfp-fraud-20240829063045 current state:\n",
      "PipelineState.PIPELINE_STATE_RUNNING\n",
      "PipelineJob projects/852126792524/locations/us-central1/pipelineJobs/kfp-fraud-20240829063045 current state:\n",
      "PipelineState.PIPELINE_STATE_RUNNING\n",
      "PipelineJob projects/852126792524/locations/us-central1/pipelineJobs/kfp-fraud-20240829063045 current state:\n",
      "PipelineState.PIPELINE_STATE_RUNNING\n",
      "PipelineJob projects/852126792524/locations/us-central1/pipelineJobs/kfp-fraud-20240829063045 current state:\n",
      "PipelineState.PIPELINE_STATE_RUNNING\n",
      "PipelineJob projects/852126792524/locations/us-central1/pipelineJobs/kfp-fraud-20240829063045 current state:\n",
      "PipelineState.PIPELINE_STATE_RUNNING\n",
      "PipelineJob projects/852126792524/locations/us-central1/pipelineJobs/kfp-fraud-20240829063045 current state:\n",
      "PipelineState.PIPELINE_STATE_RUNNING\n",
      "PipelineJob projects/852126792524/locations/us-central1/pipelineJobs/kfp-fraud-20240829063045 current state:\n",
      "PipelineState.PIPELINE_STATE_RUNNING\n",
      "PipelineJob projects/852126792524/locations/us-central1/pipelineJobs/kfp-fraud-20240829063045 current state:\n",
      "PipelineState.PIPELINE_STATE_RUNNING\n",
      "PipelineJob projects/852126792524/locations/us-central1/pipelineJobs/kfp-fraud-20240829063045 current state:\n",
      "PipelineState.PIPELINE_STATE_RUNNING\n",
      "PipelineJob projects/852126792524/locations/us-central1/pipelineJobs/kfp-fraud-20240829063045 current state:\n",
      "PipelineState.PIPELINE_STATE_RUNNING\n",
      "PipelineJob projects/852126792524/locations/us-central1/pipelineJobs/kfp-fraud-20240829063045 current state:\n",
      "PipelineState.PIPELINE_STATE_RUNNING\n",
      "PipelineJob projects/852126792524/locations/us-central1/pipelineJobs/kfp-fraud-20240829063045 current state:\n",
      "PipelineState.PIPELINE_STATE_RUNNING\n",
      "PipelineJob projects/852126792524/locations/us-central1/pipelineJobs/kfp-fraud-20240829063045 current state:\n",
      "PipelineState.PIPELINE_STATE_RUNNING\n",
      "PipelineJob projects/852126792524/locations/us-central1/pipelineJobs/kfp-fraud-20240829063045 current state:\n",
      "PipelineState.PIPELINE_STATE_RUNNING\n",
      "PipelineJob projects/852126792524/locations/us-central1/pipelineJobs/kfp-fraud-20240829063045 current state:\n",
      "PipelineState.PIPELINE_STATE_RUNNING\n",
      "PipelineJob projects/852126792524/locations/us-central1/pipelineJobs/kfp-fraud-20240829063045 current state:\n",
      "PipelineState.PIPELINE_STATE_RUNNING\n",
      "PipelineJob projects/852126792524/locations/us-central1/pipelineJobs/kfp-fraud-20240829063045 current state:\n",
      "PipelineState.PIPELINE_STATE_RUNNING\n",
      "PipelineJob projects/852126792524/locations/us-central1/pipelineJobs/kfp-fraud-20240829063045 current state:\n",
      "PipelineState.PIPELINE_STATE_RUNNING\n",
      "PipelineJob projects/852126792524/locations/us-central1/pipelineJobs/kfp-fraud-20240829063045 current state:\n",
      "PipelineState.PIPELINE_STATE_RUNNING\n",
      "PipelineJob projects/852126792524/locations/us-central1/pipelineJobs/kfp-fraud-20240829063045 current state:\n",
      "PipelineState.PIPELINE_STATE_RUNNING\n",
      "PipelineJob projects/852126792524/locations/us-central1/pipelineJobs/kfp-fraud-20240829063045 current state:\n",
      "PipelineState.PIPELINE_STATE_RUNNING\n",
      "PipelineJob projects/852126792524/locations/us-central1/pipelineJobs/kfp-fraud-20240829063045 current state:\n",
      "PipelineState.PIPELINE_STATE_RUNNING\n",
      "PipelineJob projects/852126792524/locations/us-central1/pipelineJobs/kfp-fraud-20240829063045 current state:\n",
      "PipelineState.PIPELINE_STATE_RUNNING\n",
      "PipelineJob projects/852126792524/locations/us-central1/pipelineJobs/kfp-fraud-20240829063045 current state:\n",
      "PipelineState.PIPELINE_STATE_RUNNING\n",
      "PipelineJob projects/852126792524/locations/us-central1/pipelineJobs/kfp-fraud-20240829063045 current state:\n",
      "PipelineState.PIPELINE_STATE_RUNNING\n",
      "PipelineJob projects/852126792524/locations/us-central1/pipelineJobs/kfp-fraud-20240829063045 current state:\n",
      "PipelineState.PIPELINE_STATE_RUNNING\n",
      "PipelineJob projects/852126792524/locations/us-central1/pipelineJobs/kfp-fraud-20240829063045 current state:\n",
      "PipelineState.PIPELINE_STATE_RUNNING\n",
      "PipelineJob projects/852126792524/locations/us-central1/pipelineJobs/kfp-fraud-20240829063045 current state:\n",
      "PipelineState.PIPELINE_STATE_RUNNING\n",
      "PipelineJob projects/852126792524/locations/us-central1/pipelineJobs/kfp-fraud-20240829063045 current state:\n",
      "PipelineState.PIPELINE_STATE_RUNNING\n",
      "PipelineJob run completed. Resource name: projects/852126792524/locations/us-central1/pipelineJobs/kfp-fraud-20240829063045\n"
     ]
    }
   ],
   "source": [
    "response = pipeline.run(\n",
    "    service_account = SERVICE_ACCOUNT\n",
    ")"
   ]
  },
  {
   "cell_type": "markdown",
   "id": "3dfed2da-15e1-42e6-b3d0-6256dead0879",
   "metadata": {
    "tags": []
   },
   "source": [
    "# Model Evaluation & Prediction"
   ]
  },
  {
   "cell_type": "markdown",
   "id": "6bcf88b4-949a-4b5c-bf6a-ba14ef348032",
   "metadata": {
    "tags": []
   },
   "source": [
    "Now, let's retrieve the model's metrics using the Python client, just as demonstrated in the notebook, and then present them."
   ]
  },
  {
   "cell_type": "code",
   "execution_count": 55,
   "id": "83ec215d-f0f5-4f14-aa02-5cdeb2dd2158",
   "metadata": {
    "tags": []
   },
   "outputs": [],
   "source": [
    "# If the model already exists and you're re-running this notebook, load the model by running this cell:\n",
    "# model_resource_name = 'projects/852126792524/locations/us-central1/models/3282236822469476352' # fill up the model's resource id\n",
    "# model = aiplatform.Model(model_resource_name)"
   ]
  },
  {
   "cell_type": "code",
   "execution_count": 56,
   "id": "9b41ea26-beee-472f-b772-e0bac9b9531a",
   "metadata": {},
   "outputs": [],
   "source": [
    "model_client = aiplatform.gapic.ModelServiceClient(\n",
    "    client_options = {\n",
    "        'api_endpoint' : f'{REGION}-aiplatform.googleapis.com'\n",
    "    }\n",
    ")"
   ]
  },
  {
   "cell_type": "code",
   "execution_count": 57,
   "id": "22befd41-c848-4310-b432-4bd012e21315",
   "metadata": {
    "tags": []
   },
   "outputs": [
    {
     "data": {
      "text/html": [
       "\n",
       "        \n",
       "    <link rel=\"stylesheet\" href=\"https://fonts.googleapis.com/icon?family=Material+Icons\">\n",
       "    <style>\n",
       "      .view-vertex-resource,\n",
       "      .view-vertex-resource:hover,\n",
       "      .view-vertex-resource:visited {\n",
       "        position: relative;\n",
       "        display: inline-flex;\n",
       "        flex-direction: row;\n",
       "        height: 32px;\n",
       "        padding: 0 12px;\n",
       "          margin: 4px 18px;\n",
       "        gap: 4px;\n",
       "        border-radius: 4px;\n",
       "\n",
       "        align-items: center;\n",
       "        justify-content: center;\n",
       "        background-color: rgb(255, 255, 255);\n",
       "        color: rgb(51, 103, 214);\n",
       "\n",
       "        font-family: Roboto,\"Helvetica Neue\",sans-serif;\n",
       "        font-size: 13px;\n",
       "        font-weight: 500;\n",
       "        text-transform: uppercase;\n",
       "        text-decoration: none !important;\n",
       "\n",
       "        transition: box-shadow 280ms cubic-bezier(0.4, 0, 0.2, 1) 0s;\n",
       "        box-shadow: 0px 3px 1px -2px rgba(0,0,0,0.2), 0px 2px 2px 0px rgba(0,0,0,0.14), 0px 1px 5px 0px rgba(0,0,0,0.12);\n",
       "      }\n",
       "      .view-vertex-resource:active {\n",
       "        box-shadow: 0px 5px 5px -3px rgba(0,0,0,0.2),0px 8px 10px 1px rgba(0,0,0,0.14),0px 3px 14px 2px rgba(0,0,0,0.12);\n",
       "      }\n",
       "      .view-vertex-resource:active .view-vertex-ripple::before {\n",
       "        position: absolute;\n",
       "        top: 0;\n",
       "        bottom: 0;\n",
       "        left: 0;\n",
       "        right: 0;\n",
       "        border-radius: 4px;\n",
       "        pointer-events: none;\n",
       "\n",
       "        content: '';\n",
       "        background-color: rgb(51, 103, 214);\n",
       "        opacity: 0.12;\n",
       "      }\n",
       "      .view-vertex-icon {\n",
       "        font-size: 18px;\n",
       "      }\n",
       "    </style>\n",
       "  \n",
       "        <a class=\"view-vertex-resource\" id=\"view-vertex-resource-644c5544-fac8-4fdb-9d75-6f99b54a3de4\" href=\"#view-view-vertex-resource-644c5544-fac8-4fdb-9d75-6f99b54a3de4\">\n",
       "          <span class=\"material-icons view-vertex-icon\">lightbulb</span>\n",
       "          <span>View Model Evaluation</span>\n",
       "        </a>\n",
       "        \n",
       "        <script>\n",
       "          (function () {\n",
       "            const link = document.getElementById('view-vertex-resource-644c5544-fac8-4fdb-9d75-6f99b54a3de4');\n",
       "            link.addEventListener('click', (e) => {\n",
       "              if (window.google?.colab?.openUrl) {\n",
       "                window.google.colab.openUrl('https://console.cloud.google.com/vertex-ai/models/locations/us-central1/models/3282236822469476352/versions/1/evaluations/2549855331363602734?project=852126792524');\n",
       "              } else {\n",
       "                window.open('https://console.cloud.google.com/vertex-ai/models/locations/us-central1/models/3282236822469476352/versions/1/evaluations/2549855331363602734?project=852126792524', '_blank');\n",
       "              }\n",
       "              e.stopPropagation();\n",
       "              e.preventDefault();\n",
       "            });\n",
       "          })();\n",
       "        </script>\n",
       "    "
      ],
      "text/plain": [
       "<IPython.core.display.HTML object>"
      ]
     },
     "metadata": {},
     "output_type": "display_data"
    }
   ],
   "source": [
    "evaluation = model.get_model_evaluation().to_dict()"
   ]
  },
  {
   "cell_type": "code",
   "execution_count": 58,
   "id": "2805aa24-ebbc-4eaf-bb54-72dddaa438e7",
   "metadata": {
    "tags": []
   },
   "outputs": [
    {
     "data": {
      "text/plain": [
       "dict_keys(['auPrc', 'auRoc', 'logLoss', 'confusionMatrix', 'confidenceMetrics'])"
      ]
     },
     "execution_count": 58,
     "metadata": {},
     "output_type": "execute_result"
    }
   ],
   "source": [
    "metrics = evaluation['metrics']\n",
    "metrics.keys()"
   ]
  },
  {
   "cell_type": "code",
   "execution_count": 59,
   "id": "12c0666b-08d4-467c-9fd7-f9ad380728fc",
   "metadata": {},
   "outputs": [
    {
     "name": "stdout",
     "output_type": "stream",
     "text": [
      "PR AUC: 0.9997238\n",
      "ROC AUC: 0.9997886\n",
      "logLoss: 0.002222949\n"
     ]
    }
   ],
   "source": [
    "print(\"PR AUC:\", metrics.get('auPrc'))\n",
    "print(\"ROC AUC:\", metrics.get('auRoc'))\n",
    "print(\"logLoss:\", metrics.get('logLoss'))"
   ]
  },
  {
   "cell_type": "code",
   "execution_count": 60,
   "id": "b63d5ab9-d06f-4b63-9670-5bea5e235c36",
   "metadata": {
    "tags": []
   },
   "outputs": [
    {
     "data": {
      "image/png": "[encoded data removed]",
      "text/plain": [
       "<Figure size 800x600 with 1 Axes>"
      ]
     },
     "metadata": {},
     "output_type": "display_data"
    }
   ],
   "source": [
    "import matplotlib.pyplot as plt\n",
    "import seaborn as sns\n",
    "import numpy as np\n",
    "\n",
    "confusion_matrix = metrics.get('confusionMatrix')\n",
    "   \n",
    "cm = np.array(confusion_matrix['rows'])\n",
    "cm = cm[:-1,:-1] # remove dropped\n",
    "\n",
    "plt.figure(figsize=(8, 6))\n",
    "sns.heatmap(cm, annot=True, fmt='g', cmap='Blues', cbar=False)\n",
    "plt.title('Confusion Matrix')\n",
    "plt.show()"
   ]
  }
 ],
 "metadata": {
  "environment": {
   "kernel": "conda-base-py",
   "name": "workbench-notebooks.m124",
   "type": "gcloud",
   "uri": "us-docker.pkg.dev/deeplearning-platform-release/gcr.io/workbench-notebooks:m124"
  },
  "kernelspec": {
   "display_name": "Python 3 (ipykernel) (Local) (Local)",
   "language": "python",
   "name": "conda-base-py"
  },
  "language_info": {
   "codemirror_mode": {
    "name": "ipython",
    "version": 3
   },
   "file_extension": ".py",
   "mimetype": "text/x-python",
   "name": "python",
   "nbconvert_exporter": "python",
   "pygments_lexer": "ipython3",
   "version": "3.10.14"
  }
 },
 "nbformat": 4,
 "nbformat_minor": 5
}
